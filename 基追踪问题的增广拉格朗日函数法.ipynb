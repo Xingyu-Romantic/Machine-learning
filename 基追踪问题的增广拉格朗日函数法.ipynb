{
 "cells": [
  {
   "cell_type": "code",
   "execution_count": 1,
   "metadata": {},
   "outputs": [],
   "source": [
    "import numpy as np\n",
    "import time"
   ]
  },
  {
   "cell_type": "markdown",
   "metadata": {},
   "source": [
    "函数值 \n",
    "$\\|x\\|_1+\\frac{\\sigma}{2}\\|Ax-b+\\frac{\\lambda}{\\sigma}\\|^2_2$，\n",
    "\n",
    "可微部分的梯度 $g=\\sigma A^\\top(Ax-b+\\frac{\\lambda}{\\sigma})$。"
   ]
  },
  {
   "cell_type": "code",
   "execution_count": 2,
   "metadata": {},
   "outputs": [],
   "source": [
    "opt = {'itr': 20, 'itr_inn': 2500, 'sigma': 1, \n",
    "       'tol0': 1e-1, 'gamma': 1, 'verbose': 2}\n",
    "def prox(x, mu):\n",
    "    y = np.maximum(abs(x) - mu, 0)\n",
    "    y = np.multiply(np.sign(x), y)\n",
    "    #y = np.sign(x) * y\n",
    "    return y\n",
    "def BP_ALM(x0, A, b, opts):\n",
    "    for i in opt.keys():\n",
    "        if opts.get(i, -1) == -1:\n",
    "            opts[i] = opt[i]\n",
    "    sigma = opts['sigma']\n",
    "    gamma = opts['gamma']\n",
    "    # 迭代准备\n",
    "    k = 0\n",
    "    tt = time.time()\n",
    "    out = {}\n",
    "    # 计算并记录初始时刻都约束违反度\n",
    "    out['feavec'] = np.linalg.norm(np.matmul(A, x0) -b)\n",
    "    x = x0\n",
    "    lambda_ = np.zeros(b.shape)\n",
    "    out['itr_inn'] = 0\n",
    "    \n",
    "    # 记录迭代过程的优化变量x的值\n",
    "    itervec = np.zeros((len(x0), opts['itr'] + 1))\n",
    "    L = sigma * max(np.linalg.eig(np.matmul(A.T, A))[0])\n",
    "    # 迭代主循环\n",
    "    while k < opts['itr']:\n",
    "        Axb = np.matmul(A, x) - b\n",
    "        c = Axb + lambda_ / sigma\n",
    "        g = sigma * np.matmul(A.T, c)\n",
    "        tmp = 0.5 * sigma * np.linalg.norm(c, 2) ** 2\n",
    "        f = np.linalg.norm(x, 1) + tmp\n",
    "        \n",
    "        nrmG = np.linalg.norm(x - prox(x - g, 1), 2)\n",
    "        tol_t = opts['tol0'] * (10 ** (-k))\n",
    "        t = 1 / L\n",
    "        # 子问题求解的近似点梯度法\n",
    "        Cval = tmp\n",
    "        Q = 1 \n",
    "        k1 = 0\n",
    "        while k1 < opts['itr_inn'] and nrmG > tol_t:\n",
    "            gp = g\n",
    "            xp = x\n",
    "            x = prox(xp - t * gp, t)\n",
    "            nls =  1\n",
    "            while True:\n",
    "                tmp = 0.5 * sigma * np.linalg.norm(np.matmul(A , x) - b + lambda_ / sigma, 2)**2\n",
    "                if tmp <= Cval + np.matmul(g.T, x - xp) + 0.5 * sigma / t * np.linalg.norm(x - xp, 2)**2 or nls == 5:\n",
    "                    break\n",
    "                t = 0.2 * t\n",
    "                nls += 1\n",
    "                x = prox(xp - t * g, t)\n",
    "            f = tmp + np.linalg.norm(x, 1)\n",
    "            nrmG = np.linalg.norm(x - xp, 2) / t\n",
    "            Axb = np.matmul(A, x) - b\n",
    "            c = Axb + lambda_ / sigma\n",
    "            g = sigma * np.matmul(A.T, c)\n",
    "            \n",
    "            dx = x - xp\n",
    "            dg = g - gp\n",
    "            dxg = np.abs(np.matmul(dx.T, dg))\n",
    "            if dxg > 0:\n",
    "                if k % 2 == 0:\n",
    "                    t = np.linalg.norm(dx, 2) **2 / dxg\n",
    "                else:\n",
    "                    t = dxg / np.linalg.norm(dg, 2) ** 2\n",
    "            t = min(max(t, 1 / L), 1e12)\n",
    "            Qp = Q\n",
    "            Q = gamma * Qp + 1\n",
    "            Cval = (gamma * Qp * Cval + tmp) / Q\n",
    "            k1 += 1\n",
    "            if opts['verbose'] > 1:\n",
    "                print('itr_inn: %d\\tfval: %e\\t nrmG: %e\\n'%(k1, f,nrmG))\n",
    "        if opts['verbose']:\n",
    "            print('itr_inn: %d\\tfval: %e\\t nrmG: %e\\n'%(k1, f,nrmG))\n",
    "        lambda_ = lambda_ + sigma * Axb\n",
    "        k += 1\n",
    "        out['feavec'] = np.vstack((out['feavec'], np.linalg.norm(Axb)))\n",
    "        itervec[:, k] = x.flatten()\n",
    "        out['itr_inn'] += k1\n",
    "    out['tt'] = time.time() - tt\n",
    "    out['fval'] = f\n",
    "    out['itr'] = k\n",
    "    out['itervec'] = itervec\n",
    "    return [x, out]\n",
    "        "
   ]
  },
  {
   "cell_type": "markdown",
   "metadata": {},
   "source": [
    "## 求解基追踪问题"
   ]
  },
  {
   "cell_type": "code",
   "execution_count": 3,
   "metadata": {},
   "outputs": [],
   "source": [
    "import random\n",
    "import numpy as np\n",
    "import scipy.sparse\n",
    "random.seed(97006855)\n",
    "\n",
    "m = 512\n",
    "n = 1024\n",
    "A = np.random.randn(m, n)\n",
    "u = scipy.sparse.rand(n,1,0.1).toarray()\n",
    "b = np.matmul(A, u)\n",
    "x0 = np.random.randn(n, 1)\n",
    "\n",
    "optsp = {}\n",
    "optsp['verbose'] = 1\n",
    "optsp['gamma'] = 0.85\n",
    "optsp['itr'] = 7"
   ]
  },
  {
   "cell_type": "code",
   "execution_count": 4,
   "metadata": {},
   "outputs": [
    {
     "name": "stdout",
     "output_type": "stream",
     "text": [
      "itr_inn: 1201\tfval: 4.980666e+01\t nrmG: 7.680339e-02\n",
      "\n"
     ]
    },
    {
     "name": "stderr",
     "output_type": "stream",
     "text": [
      "/home/xingyu/anaconda3/lib/python3.7/site-packages/ipykernel_launcher.py:80: ComplexWarning: Casting complex values to real discards the imaginary part\n"
     ]
    },
    {
     "name": "stdout",
     "output_type": "stream",
     "text": [
      "itr_inn: 45\tfval: 5.008059e+01\t nrmG: 8.903760e-03\n",
      "\n",
      "itr_inn: 11\tfval: 5.008260e+01\t nrmG: 1.836351e-04\n",
      "\n",
      "itr_inn: 42\tfval: 5.008481e+01\t nrmG: 9.455254e-05\n",
      "\n",
      "itr_inn: 24\tfval: 5.008634e+01\t nrmG: 2.533631e-06\n",
      "\n",
      "itr_inn: 2500\tfval: 5.008634e+01\t nrmG: 3.320484e-05\n",
      "\n",
      "itr_inn: 2500\tfval: 5.008634e+01\t nrmG: 1.123464e-06\n",
      "\n",
      "(1024, 1) [[ 0.00000000e+00  0.00000000e+00  0.00000000e+00  0.00000000e+00\n",
      "   0.00000000e+00]\n",
      " [-0.00000000e+00 -0.00000000e+00 -0.00000000e+00 -0.00000000e+00\n",
      "  -0.00000000e+00]\n",
      " [-0.00000000e+00 -0.00000000e+00 -0.00000000e+00 -0.00000000e+00\n",
      "  -0.00000000e+00]\n",
      " ...\n",
      " [ 5.11914080e-04  6.85510620e-05  5.93917094e-05  4.34149267e-05\n",
      "   0.00000000e+00]\n",
      " [-0.00000000e+00 -0.00000000e+00 -0.00000000e+00 -0.00000000e+00\n",
      "  -0.00000000e+00]\n",
      " [ 0.00000000e+00  0.00000000e+00  0.00000000e+00  0.00000000e+00\n",
      "   0.00000000e+00]]\n"
     ]
    }
   ],
   "source": [
    "[x, out] = BP_ALM(x0, A, b, optsp)\n",
    "k1 = out['itr']\n",
    "data1 = out['feavec'][1:k1]\n",
    "print(x0.shape, out['itervec'][:, 1:k1-1])\n",
    "tmp = np.hstack((x0, out['itervec'][:, 1:k1])) - np.matmul(u, np.ones((1, k1)))\n",
    "#tmp = [x0.flatten(), out['itervec'][:, 1:k1]] - np.matmul(u, np.ones((1, k1)))\n",
    "tmp2 = np.sum(tmp * tmp, axis=0)\n",
    "data2 = np.sqrt(tmp2)"
   ]
  },
  {
   "cell_type": "code",
   "execution_count": 5,
   "metadata": {},
   "outputs": [
    {
     "data": {
      "text/plain": [
       "(1024, 6)"
      ]
     },
     "execution_count": 5,
     "metadata": {},
     "output_type": "execute_result"
    }
   ],
   "source": [
    "out['itervec'][:, 1:k1].shape"
   ]
  },
  {
   "cell_type": "code",
   "execution_count": 6,
   "metadata": {},
   "outputs": [
    {
     "name": "stdout",
     "output_type": "stream",
     "text": [
      "itr_inn: 2500\tfval: 1.017953e+02\t nrmG: 1.457570e+00\n",
      "\n"
     ]
    },
    {
     "name": "stderr",
     "output_type": "stream",
     "text": [
      "/home/xingyu/anaconda3/lib/python3.7/site-packages/ipykernel_launcher.py:80: ComplexWarning: Casting complex values to real discards the imaginary part\n"
     ]
    },
    {
     "name": "stdout",
     "output_type": "stream",
     "text": [
      "itr_inn: 2441\tfval: 1.023337e+02\t nrmG: 9.973101e-03\n",
      "\n",
      "itr_inn: 239\tfval: 1.023505e+02\t nrmG: 9.515894e-04\n",
      "\n",
      "itr_inn: 235\tfval: 1.023512e+02\t nrmG: 9.431317e-05\n",
      "\n",
      "itr_inn: 2500\tfval: 1.023512e+02\t nrmG: 1.650086e-05\n",
      "\n",
      "itr_inn: 2500\tfval: 1.023512e+02\t nrmG: 7.927562e-05\n",
      "\n",
      "itr_inn: 2500\tfval: 1.023512e+02\t nrmG: 2.506406e-06\n",
      "\n"
     ]
    }
   ],
   "source": [
    "m = 512\n",
    "n = 1024\n",
    "A = np.random.randn(m, n)\n",
    "u = scipy.sparse.rand(n,1,0.2).toarray()\n",
    "b = np.matmul(A, u)\n",
    "x0 = np.random.randn(n, 1)\n",
    "[x, out] = BP_ALM(x0, A, b, optsp)\n",
    "k2 = out['itr'] + 1\n",
    "data3 = out['feavec'][1:k2]\n",
    "tmp = np.hstack((x0, out['itervec'][:, 1:k2])) - np.matmul(u, np.ones((1, k2)))\n",
    "tmp2 = np.sum(tmp * tmp, axis=0)\n",
    "data4 = np.sqrt(tmp2)"
   ]
  },
  {
   "cell_type": "code",
   "execution_count": 7,
   "metadata": {},
   "outputs": [
    {
     "data": {
      "text/plain": [
       "(1024, 8)"
      ]
     },
     "execution_count": 7,
     "metadata": {},
     "output_type": "execute_result"
    }
   ],
   "source": [
    "tmp.shape"
   ]
  },
  {
   "cell_type": "code",
   "execution_count": 8,
   "metadata": {},
   "outputs": [],
   "source": [
    "import matplotlib\n",
    " \n",
    "font = {'family': 'MicroSoft Yahei',\n",
    "       'weight': 'bold',\n",
    "       'size': 12}\n",
    " \n",
    "matplotlib.rc(\"font\", **font)"
   ]
  },
  {
   "cell_type": "code",
   "execution_count": 9,
   "metadata": {},
   "outputs": [
    {
     "ename": "ValueError",
     "evalue": "x and y must have same first dimension, but have shapes (6,) and (7,)",
     "output_type": "error",
     "traceback": [
      "\u001b[0;31m---------------------------------------------------------------------------\u001b[0m",
      "\u001b[0;31mValueError\u001b[0m                                Traceback (most recent call last)",
      "\u001b[0;32m<ipython-input-9-8e346d874907>\u001b[0m in \u001b[0;36m<module>\u001b[0;34m\u001b[0m\n\u001b[1;32m     15\u001b[0m \u001b[0mplt\u001b[0m\u001b[0;34m.\u001b[0m\u001b[0mplot\u001b[0m\u001b[0;34m(\u001b[0m\u001b[0mx1\u001b[0m\u001b[0;34m,\u001b[0m \u001b[0my1\u001b[0m\u001b[0;34m,\u001b[0m \u001b[0;34m'white'\u001b[0m\u001b[0;34m)\u001b[0m\u001b[0;34m\u001b[0m\u001b[0;34m\u001b[0m\u001b[0m\n\u001b[1;32m     16\u001b[0m \u001b[0mplt\u001b[0m\u001b[0;34m.\u001b[0m\u001b[0myscale\u001b[0m\u001b[0;34m(\u001b[0m\u001b[0;34m'log'\u001b[0m\u001b[0;34m)\u001b[0m\u001b[0;34m\u001b[0m\u001b[0;34m\u001b[0m\u001b[0m\n\u001b[0;32m---> 17\u001b[0;31m \u001b[0mplt\u001b[0m\u001b[0;34m.\u001b[0m\u001b[0mplot\u001b[0m\u001b[0;34m(\u001b[0m\u001b[0mlist\u001b[0m\u001b[0;34m(\u001b[0m\u001b[0mrange\u001b[0m\u001b[0;34m(\u001b[0m\u001b[0mk1\u001b[0m\u001b[0;34m-\u001b[0m\u001b[0;36m1\u001b[0m\u001b[0;34m)\u001b[0m\u001b[0;34m)\u001b[0m\u001b[0;34m,\u001b[0m \u001b[0mdata2\u001b[0m\u001b[0;34m,\u001b[0m\u001b[0;34m'-'\u001b[0m\u001b[0;34m,\u001b[0m \u001b[0mc\u001b[0m\u001b[0;34m=\u001b[0m\u001b[0;34m'red'\u001b[0m\u001b[0;34m,\u001b[0m \u001b[0mlabel\u001b[0m \u001b[0;34m=\u001b[0m \u001b[0;34m'r=0.1'\u001b[0m\u001b[0;34m)\u001b[0m\u001b[0;34m\u001b[0m\u001b[0;34m\u001b[0m\u001b[0m\n\u001b[0m\u001b[1;32m     18\u001b[0m \u001b[0mplt\u001b[0m\u001b[0;34m.\u001b[0m\u001b[0mplot\u001b[0m\u001b[0;34m(\u001b[0m\u001b[0mlist\u001b[0m\u001b[0;34m(\u001b[0m\u001b[0mrange\u001b[0m\u001b[0;34m(\u001b[0m\u001b[0mk2\u001b[0m\u001b[0;34m-\u001b[0m\u001b[0;36m1\u001b[0m\u001b[0;34m)\u001b[0m\u001b[0;34m)\u001b[0m\u001b[0;34m,\u001b[0m \u001b[0mdata4\u001b[0m\u001b[0;34m,\u001b[0m \u001b[0;34m'--'\u001b[0m\u001b[0;34m,\u001b[0m\u001b[0mc\u001b[0m\u001b[0;34m=\u001b[0m\u001b[0;34m'blue'\u001b[0m\u001b[0;34m,\u001b[0m \u001b[0mlabel\u001b[0m\u001b[0;34m=\u001b[0m\u001b[0;34m'r=0.2'\u001b[0m\u001b[0;34m)\u001b[0m\u001b[0;34m\u001b[0m\u001b[0;34m\u001b[0m\u001b[0m\n\u001b[1;32m     19\u001b[0m \u001b[0;34m\u001b[0m\u001b[0m\n",
      "\u001b[0;32m~/anaconda3/lib/python3.7/site-packages/matplotlib/pyplot.py\u001b[0m in \u001b[0;36mplot\u001b[0;34m(scalex, scaley, data, *args, **kwargs)\u001b[0m\n\u001b[1;32m   2840\u001b[0m     return gca().plot(\n\u001b[1;32m   2841\u001b[0m         \u001b[0;34m*\u001b[0m\u001b[0margs\u001b[0m\u001b[0;34m,\u001b[0m \u001b[0mscalex\u001b[0m\u001b[0;34m=\u001b[0m\u001b[0mscalex\u001b[0m\u001b[0;34m,\u001b[0m \u001b[0mscaley\u001b[0m\u001b[0;34m=\u001b[0m\u001b[0mscaley\u001b[0m\u001b[0;34m,\u001b[0m\u001b[0;34m\u001b[0m\u001b[0;34m\u001b[0m\u001b[0m\n\u001b[0;32m-> 2842\u001b[0;31m         **({\"data\": data} if data is not None else {}), **kwargs)\n\u001b[0m\u001b[1;32m   2843\u001b[0m \u001b[0;34m\u001b[0m\u001b[0m\n\u001b[1;32m   2844\u001b[0m \u001b[0;34m\u001b[0m\u001b[0m\n",
      "\u001b[0;32m~/anaconda3/lib/python3.7/site-packages/matplotlib/axes/_axes.py\u001b[0m in \u001b[0;36mplot\u001b[0;34m(self, scalex, scaley, data, *args, **kwargs)\u001b[0m\n\u001b[1;32m   1741\u001b[0m         \"\"\"\n\u001b[1;32m   1742\u001b[0m         \u001b[0mkwargs\u001b[0m \u001b[0;34m=\u001b[0m \u001b[0mcbook\u001b[0m\u001b[0;34m.\u001b[0m\u001b[0mnormalize_kwargs\u001b[0m\u001b[0;34m(\u001b[0m\u001b[0mkwargs\u001b[0m\u001b[0;34m,\u001b[0m \u001b[0mmlines\u001b[0m\u001b[0;34m.\u001b[0m\u001b[0mLine2D\u001b[0m\u001b[0;34m)\u001b[0m\u001b[0;34m\u001b[0m\u001b[0;34m\u001b[0m\u001b[0m\n\u001b[0;32m-> 1743\u001b[0;31m         \u001b[0mlines\u001b[0m \u001b[0;34m=\u001b[0m \u001b[0;34m[\u001b[0m\u001b[0;34m*\u001b[0m\u001b[0mself\u001b[0m\u001b[0;34m.\u001b[0m\u001b[0m_get_lines\u001b[0m\u001b[0;34m(\u001b[0m\u001b[0;34m*\u001b[0m\u001b[0margs\u001b[0m\u001b[0;34m,\u001b[0m \u001b[0mdata\u001b[0m\u001b[0;34m=\u001b[0m\u001b[0mdata\u001b[0m\u001b[0;34m,\u001b[0m \u001b[0;34m**\u001b[0m\u001b[0mkwargs\u001b[0m\u001b[0;34m)\u001b[0m\u001b[0;34m]\u001b[0m\u001b[0;34m\u001b[0m\u001b[0;34m\u001b[0m\u001b[0m\n\u001b[0m\u001b[1;32m   1744\u001b[0m         \u001b[0;32mfor\u001b[0m \u001b[0mline\u001b[0m \u001b[0;32min\u001b[0m \u001b[0mlines\u001b[0m\u001b[0;34m:\u001b[0m\u001b[0;34m\u001b[0m\u001b[0;34m\u001b[0m\u001b[0m\n\u001b[1;32m   1745\u001b[0m             \u001b[0mself\u001b[0m\u001b[0;34m.\u001b[0m\u001b[0madd_line\u001b[0m\u001b[0;34m(\u001b[0m\u001b[0mline\u001b[0m\u001b[0;34m)\u001b[0m\u001b[0;34m\u001b[0m\u001b[0;34m\u001b[0m\u001b[0m\n",
      "\u001b[0;32m~/anaconda3/lib/python3.7/site-packages/matplotlib/axes/_base.py\u001b[0m in \u001b[0;36m__call__\u001b[0;34m(self, data, *args, **kwargs)\u001b[0m\n\u001b[1;32m    271\u001b[0m                 \u001b[0mthis\u001b[0m \u001b[0;34m+=\u001b[0m \u001b[0margs\u001b[0m\u001b[0;34m[\u001b[0m\u001b[0;36m0\u001b[0m\u001b[0;34m]\u001b[0m\u001b[0;34m,\u001b[0m\u001b[0;34m\u001b[0m\u001b[0;34m\u001b[0m\u001b[0m\n\u001b[1;32m    272\u001b[0m                 \u001b[0margs\u001b[0m \u001b[0;34m=\u001b[0m \u001b[0margs\u001b[0m\u001b[0;34m[\u001b[0m\u001b[0;36m1\u001b[0m\u001b[0;34m:\u001b[0m\u001b[0;34m]\u001b[0m\u001b[0;34m\u001b[0m\u001b[0;34m\u001b[0m\u001b[0m\n\u001b[0;32m--> 273\u001b[0;31m             \u001b[0;32myield\u001b[0m \u001b[0;32mfrom\u001b[0m \u001b[0mself\u001b[0m\u001b[0;34m.\u001b[0m\u001b[0m_plot_args\u001b[0m\u001b[0;34m(\u001b[0m\u001b[0mthis\u001b[0m\u001b[0;34m,\u001b[0m \u001b[0mkwargs\u001b[0m\u001b[0;34m)\u001b[0m\u001b[0;34m\u001b[0m\u001b[0;34m\u001b[0m\u001b[0m\n\u001b[0m\u001b[1;32m    274\u001b[0m \u001b[0;34m\u001b[0m\u001b[0m\n\u001b[1;32m    275\u001b[0m     \u001b[0;32mdef\u001b[0m \u001b[0mget_next_color\u001b[0m\u001b[0;34m(\u001b[0m\u001b[0mself\u001b[0m\u001b[0;34m)\u001b[0m\u001b[0;34m:\u001b[0m\u001b[0;34m\u001b[0m\u001b[0;34m\u001b[0m\u001b[0m\n",
      "\u001b[0;32m~/anaconda3/lib/python3.7/site-packages/matplotlib/axes/_base.py\u001b[0m in \u001b[0;36m_plot_args\u001b[0;34m(self, tup, kwargs)\u001b[0m\n\u001b[1;32m    397\u001b[0m \u001b[0;34m\u001b[0m\u001b[0m\n\u001b[1;32m    398\u001b[0m         \u001b[0;32mif\u001b[0m \u001b[0mx\u001b[0m\u001b[0;34m.\u001b[0m\u001b[0mshape\u001b[0m\u001b[0;34m[\u001b[0m\u001b[0;36m0\u001b[0m\u001b[0;34m]\u001b[0m \u001b[0;34m!=\u001b[0m \u001b[0my\u001b[0m\u001b[0;34m.\u001b[0m\u001b[0mshape\u001b[0m\u001b[0;34m[\u001b[0m\u001b[0;36m0\u001b[0m\u001b[0;34m]\u001b[0m\u001b[0;34m:\u001b[0m\u001b[0;34m\u001b[0m\u001b[0;34m\u001b[0m\u001b[0m\n\u001b[0;32m--> 399\u001b[0;31m             raise ValueError(f\"x and y must have same first dimension, but \"\n\u001b[0m\u001b[1;32m    400\u001b[0m                              f\"have shapes {x.shape} and {y.shape}\")\n\u001b[1;32m    401\u001b[0m         \u001b[0;32mif\u001b[0m \u001b[0mx\u001b[0m\u001b[0;34m.\u001b[0m\u001b[0mndim\u001b[0m \u001b[0;34m>\u001b[0m \u001b[0;36m2\u001b[0m \u001b[0;32mor\u001b[0m \u001b[0my\u001b[0m\u001b[0;34m.\u001b[0m\u001b[0mndim\u001b[0m \u001b[0;34m>\u001b[0m \u001b[0;36m2\u001b[0m\u001b[0;34m:\u001b[0m\u001b[0;34m\u001b[0m\u001b[0;34m\u001b[0m\u001b[0m\n",
      "\u001b[0;31mValueError\u001b[0m: x and y must have same first dimension, but have shapes (6,) and (7,)"
     ]
    },
    {
     "data": {
      "image/png": "[encoded data removed]",
      "text/plain": [
       "<Figure size 720x720 with 2 Axes>"
      ]
     },
     "metadata": {
      "needs_background": "light"
     },
     "output_type": "display_data"
    }
   ],
   "source": [
    "import matplotlib.pyplot as plt\n",
    "y1=[pow(10,i) for i in range(-8,5)]\n",
    "x1=range(0, len(y1))\n",
    "plt.figure(figsize=(10, 10)) \n",
    "plt.subplot(2,  1,  1)  \n",
    "plt.plot(x1, y1, 'white')\n",
    "plt.yscale('log')\n",
    "plt.plot(list(range(k1-1)), data1,'-', c='red', label = 'r=0.1')\n",
    "plt.plot(list(range(k2-1)), data3, '--',c='blue', label='r=0.2')\n",
    "plt.legend()\n",
    "\n",
    "plt.subplot(2,  1,  2)\n",
    "y1=[pow(10,i) for i in range(-10,2)]\n",
    "x1=range(0, len(y1))\n",
    "plt.plot(x1, y1, 'white')\n",
    "plt.yscale('log')\n",
    "plt.plot(list(range(k1-1)), data2,'-', c='red', label = 'r=0.1')\n",
    "plt.plot(list(range(k2-1)), data4, '--',c='blue', label='r=0.2')\n",
    "\n",
    "plt.savefig('罚函数法')"
   ]
  },
  {
   "cell_type": "code",
   "execution_count": null,
   "metadata": {},
   "outputs": [],
   "source": []
  }
 ],
 "metadata": {
  "kernelspec": {
   "display_name": "Python 3",
   "language": "python",
   "name": "python3"
  },
  "language_info": {
   "codemirror_mode": {
    "name": "ipython",
    "version": 3
   },
   "file_extension": ".py",
   "mimetype": "text/x-python",
   "name": "python",
   "nbconvert_exporter": "python",
   "pygments_lexer": "ipython3",
   "version": "3.7.6"
  }
 },
 "nbformat": 4,
 "nbformat_minor": 4
}
