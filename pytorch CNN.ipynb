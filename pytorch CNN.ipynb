{
 "cells": [
  {
   "cell_type": "code",
   "execution_count": 1,
   "metadata": {},
   "outputs": [
    {
     "data": {
      "text/plain": [
       "'1.6.0'"
      ]
     },
     "execution_count": 1,
     "metadata": {},
     "output_type": "execute_result"
    }
   ],
   "source": [
    "import torch\n",
    "import torch.nn as nn\n",
    "import torch.nn.functional as F\n",
    "import torch.optim as optim\n",
    "from torchvision import datasets, transforms\n",
    "torch.__version__"
   ]
  },
  {
   "cell_type": "code",
   "execution_count": 3,
   "metadata": {},
   "outputs": [
    {
     "data": {
      "text/plain": [
       "device(type='cuda')"
      ]
     },
     "execution_count": 3,
     "metadata": {},
     "output_type": "execute_result"
    }
   ],
   "source": [
    "BATCH_SIZE=512 #大概需要2G的显存\n",
    "EPOCHS=20 # 总共训练批次\n",
    "DEVICE = torch.device(\"cuda\" if torch.cuda.is_available() else \"cpu\") \n",
    "DEVICE"
   ]
  },
  {
   "cell_type": "code",
   "execution_count": 4,
   "metadata": {},
   "outputs": [
    {
     "name": "stdout",
     "output_type": "stream",
     "text": [
      "Downloading http://yann.lecun.com/exdb/mnist/train-images-idx3-ubyte.gz to data/MNIST/raw/train-images-idx3-ubyte.gz\n"
     ]
    },
    {
     "data": {
      "application/vnd.jupyter.widget-view+json": {
       "model_id": "739a0fc8a3b74b7180c7e133d64f895e",
       "version_major": 2,
       "version_minor": 0
      },
      "text/plain": [
       "HBox(children=(FloatProgress(value=1.0, bar_style='info', max=1.0), HTML(value='')))"
      ]
     },
     "metadata": {},
     "output_type": "display_data"
    },
    {
     "name": "stdout",
     "output_type": "stream",
     "text": [
      "Extracting data/MNIST/raw/train-images-idx3-ubyte.gz to data/MNIST/raw\n",
      "Downloading http://yann.lecun.com/exdb/mnist/train-labels-idx1-ubyte.gz to data/MNIST/raw/train-labels-idx1-ubyte.gz\n"
     ]
    },
    {
     "data": {
      "application/vnd.jupyter.widget-view+json": {
       "model_id": "8fe23b3a76684fd2a12de5012b2dba90",
       "version_major": 2,
       "version_minor": 0
      },
      "text/plain": [
       "HBox(children=(FloatProgress(value=1.0, bar_style='info', max=1.0), HTML(value='')))"
      ]
     },
     "metadata": {},
     "output_type": "display_data"
    },
    {
     "name": "stdout",
     "output_type": "stream",
     "text": [
      "Extracting data/MNIST/raw/train-labels-idx1-ubyte.gz to data/MNIST/raw\n",
      "Downloading http://yann.lecun.com/exdb/mnist/t10k-images-idx3-ubyte.gz to data/MNIST/raw/t10k-images-idx3-ubyte.gz\n"
     ]
    },
    {
     "data": {
      "application/vnd.jupyter.widget-view+json": {
       "model_id": "4596c11f57dc4e4abeee3307612a3a56",
       "version_major": 2,
       "version_minor": 0
      },
      "text/plain": [
       "HBox(children=(FloatProgress(value=1.0, bar_style='info', max=1.0), HTML(value='')))"
      ]
     },
     "metadata": {},
     "output_type": "display_data"
    },
    {
     "name": "stdout",
     "output_type": "stream",
     "text": [
      "Extracting data/MNIST/raw/t10k-images-idx3-ubyte.gz to data/MNIST/raw\n",
      "Downloading http://yann.lecun.com/exdb/mnist/t10k-labels-idx1-ubyte.gz to data/MNIST/raw/t10k-labels-idx1-ubyte.gz\n"
     ]
    },
    {
     "data": {
      "application/vnd.jupyter.widget-view+json": {
       "model_id": "c8fdd4455fdc42ea964e65a79e4f74f1",
       "version_major": 2,
       "version_minor": 0
      },
      "text/plain": [
       "HBox(children=(FloatProgress(value=1.0, bar_style='info', max=1.0), HTML(value='')))"
      ]
     },
     "metadata": {},
     "output_type": "display_data"
    },
    {
     "name": "stdout",
     "output_type": "stream",
     "text": [
      "Extracting data/MNIST/raw/t10k-labels-idx1-ubyte.gz to data/MNIST/raw\n",
      "Processing...\n",
      "Done!\n"
     ]
    },
    {
     "name": "stderr",
     "output_type": "stream",
     "text": [
      "/home/xingyu/anaconda3/lib/python3.7/site-packages/torchvision/datasets/mnist.py:469: UserWarning: The given NumPy array is not writeable, and PyTorch does not support non-writeable tensors. This means you can write to the underlying (supposedly non-writeable) NumPy array using the tensor. You may want to copy the array to protect its data or make it writeable before converting it to a tensor. This type of warning will be suppressed for the rest of this program. (Triggered internally at  /pytorch/torch/csrc/utils/tensor_numpy.cpp:141.)\n",
      "  return torch.from_numpy(parsed.astype(m[2], copy=False)).view(*s)\n"
     ]
    }
   ],
   "source": [
    "train_loader = torch.utils.data.DataLoader(\n",
    "        datasets.MNIST('data', train=True, download=True, \n",
    "                       transform=transforms.Compose([\n",
    "                           transforms.ToTensor(),\n",
    "                           transforms.Normalize((0.1307,), (0.3081,))\n",
    "                       ])),\n",
    "        batch_size=BATCH_SIZE, shuffle=True)"
   ]
  },
  {
   "cell_type": "code",
   "execution_count": 5,
   "metadata": {},
   "outputs": [
    {
     "name": "stdout",
     "output_type": "stream",
     "text": [
      "\n"
     ]
    }
   ],
   "source": [
    "test_loader = torch.utils.data.DataLoader(\n",
    "        datasets.MNIST('data', train=False, transform=transforms.Compose([\n",
    "                           transforms.ToTensor(),\n",
    "                           transforms.Normalize((0.1307,), (0.3081,))\n",
    "                       ])),\n",
    "        batch_size=BATCH_SIZE, shuffle=True)"
   ]
  },
  {
   "cell_type": "code",
   "execution_count": 11,
   "metadata": {},
   "outputs": [
    {
     "name": "stdout",
     "output_type": "stream",
     "text": [
      "tensor([0, 4, 8, 0, 9, 5, 9, 1, 5, 5, 5, 0, 3, 9, 5, 3, 4, 7, 9, 9, 2, 0, 3, 8,\n",
      "        3, 8, 8, 5, 9, 1, 0, 4, 0, 4, 9, 6, 6, 2, 1, 4, 9, 1, 9, 7, 4, 0, 5, 8,\n",
      "        5, 1, 3, 6, 3, 5, 8, 4, 6, 2, 4, 7, 8, 0, 1, 0, 0, 1, 8, 5, 7, 3, 6, 7,\n",
      "        8, 3, 6, 4, 7, 7, 5, 0, 9, 1, 5, 2, 1, 1, 2, 4, 7, 4, 2, 6, 4, 1, 9, 5,\n",
      "        3, 0, 8, 5, 4, 5, 2, 4, 8, 0, 0, 9, 5, 2, 5, 8, 5, 4, 9, 1, 4, 9, 1, 9,\n",
      "        9, 5, 5, 1, 3, 9, 5, 9, 9, 4, 8, 0, 9, 4, 3, 5, 1, 9, 0, 2, 7, 1, 5, 7,\n",
      "        6, 7, 9, 3, 8, 7, 9, 8, 0, 7, 0, 0, 1, 0, 2, 4, 0, 0, 7, 3, 5, 4, 6, 7,\n",
      "        5, 6, 3, 0, 4, 6, 6, 2, 9, 8, 1, 0, 8, 3, 5, 2, 7, 3, 5, 7, 9, 3, 6, 1,\n",
      "        1, 9, 1, 7, 5, 2, 7, 7, 0, 4, 4, 7, 9, 6, 2, 6, 9, 8, 1, 0, 4, 0, 2, 9,\n",
      "        0, 5, 4, 3, 6, 1, 6, 3, 8, 1, 8, 0, 2, 0, 4, 8, 8, 1, 6, 3, 2, 5, 2, 9,\n",
      "        9, 5, 9, 9, 7, 5, 7, 5, 2, 1, 3, 3, 8, 0, 8, 4, 2, 5, 0, 5, 2, 7, 4, 2,\n",
      "        7, 2, 5, 2, 2, 6, 4, 5, 5, 4, 9, 9, 1, 6, 2, 2, 1, 7, 6, 4, 3, 4, 0, 4,\n",
      "        1, 8, 6, 2, 6, 0, 5, 9, 8, 0, 0, 9, 0, 9, 7, 3, 3, 6, 1, 5, 6, 6, 7, 1,\n",
      "        6, 1, 4, 3, 9, 3, 0, 0, 4, 8, 7, 3, 7, 5, 2, 2, 2, 7, 7, 7, 4, 3, 7, 3,\n",
      "        7, 4, 1, 1, 7, 0, 1, 1, 5, 7, 0, 5, 7, 2, 4, 5, 1, 7, 6, 9, 6, 3, 6, 4,\n",
      "        7, 8, 6, 4, 9, 9, 6, 6, 6, 1, 6, 6, 7, 4, 0, 6, 7, 4, 0, 1, 5, 2, 2, 7,\n",
      "        3, 0, 4, 1, 8, 4, 9, 4, 0, 8, 0, 5, 1, 3, 0, 4, 8, 3, 9, 1, 6, 5, 1, 9,\n",
      "        7, 8, 0, 1, 9, 5, 3, 0, 1, 8, 0, 0, 8, 6, 0, 7, 0, 1, 0, 7, 5, 3, 1, 2,\n",
      "        3, 7, 2, 4, 7, 0, 7, 5, 2, 6, 5, 0, 2, 4, 7, 4, 5, 4, 0, 0, 1, 0, 3, 2,\n",
      "        6, 3, 6, 2, 0, 4, 6, 7, 8, 3, 4, 3, 1, 4, 7, 6, 8, 4, 0, 1, 2, 8, 2, 0,\n",
      "        3, 6, 6, 8, 8, 9, 8, 5, 1, 2, 1, 8, 7, 7, 9, 8, 9, 2, 4, 7, 7, 7, 5, 7,\n",
      "        8, 7, 0, 3, 2, 1, 0, 4])\n",
      "torch.Size([512, 1, 28, 28])\n"
     ]
    },
    {
     "data": {
      "image/png": "[encoded data removed]",
      "text/plain": [
       "<Figure size 432x288 with 6 Axes>"
      ]
     },
     "metadata": {},
     "output_type": "display_data"
    }
   ],
   "source": [
    "examples = enumerate(test_loader)\n",
    "batch_idx, (example_data, example_targets) = next(examples)\n",
    "print(example_targets)\n",
    "print(example_data.shape)\n",
    "import matplotlib.pyplot as plt\n",
    "fig = plt.figure()\n",
    "for i in range(6):\n",
    "    plt.subplot(2,3,i+1)\n",
    "    plt.tight_layout()\n",
    "    plt.imshow(example_data[i][0], cmap='gray', interpolation='none')\n",
    "    plt.title(\"Ground Truth: {}\".format(example_targets[i]))\n",
    "    plt.xticks([])\n",
    "    plt.yticks([])\n",
    "plt.show()"
   ]
  },
  {
   "cell_type": "code",
   "execution_count": 6,
   "metadata": {},
   "outputs": [],
   "source": [
    "class ConvNet(nn.Module):\n",
    "    def __init__(self):\n",
    "        super().__init__()\n",
    "        # 1,28x28\n",
    "        self.conv1=nn.Conv2d(1,10,5) # 10, 24x24\n",
    "        self.conv2=nn.Conv2d(10,20,3) # 128, 10x10\n",
    "        self.fc1 = nn.Linear(20*10*10,500)\n",
    "        self.fc2 = nn.Linear(500,10)\n",
    "    def forward(self,x):\n",
    "        in_size = x.size(0)\n",
    "        out = self.conv1(x) #24\n",
    "        out = F.relu(out)\n",
    "        out = F.max_pool2d(out, 2, 2)  #12\n",
    "        out = self.conv2(out) #10\n",
    "        out = F.relu(out)\n",
    "        out = out.view(in_size,-1)\n",
    "        out = self.fc1(out)\n",
    "        out = F.relu(out)\n",
    "        out = self.fc2(out)\n",
    "        out = F.log_softmax(out,dim=1)\n",
    "        return out"
   ]
  },
  {
   "cell_type": "code",
   "execution_count": 7,
   "metadata": {},
   "outputs": [],
   "source": [
    "model = ConvNet().to(DEVICE)\n",
    "optimizer = optim.Adam(model.parameters())\n"
   ]
  },
  {
   "cell_type": "code",
   "execution_count": 8,
   "metadata": {},
   "outputs": [],
   "source": [
    "def train(model, device, train_loader, optimizer, epoch):\n",
    "    model.train()\n",
    "    for batch_idx, (data, target) in enumerate(train_loader):\n",
    "        data, target = data.to(device), target.to(device)\n",
    "        optimizer.zero_grad()\n",
    "        output = model(data)\n",
    "        loss = F.nll_loss(output, target)\n",
    "        loss.backward()\n",
    "        optimizer.step()\n",
    "        if(batch_idx+1)%30 == 0: \n",
    "            print('Train Epoch: {} [{}/{} ({:.0f}%)]\\tLoss: {:.6f}'.format(\n",
    "                epoch, batch_idx * len(data), len(train_loader.dataset),\n",
    "                100. * batch_idx / len(train_loader), loss.item()))"
   ]
  },
  {
   "cell_type": "code",
   "execution_count": 9,
   "metadata": {},
   "outputs": [],
   "source": [
    "def test(model, device, test_loader):\n",
    "    model.eval()\n",
    "    test_loss = 0\n",
    "    correct = 0\n",
    "    with torch.no_grad():\n",
    "        for data, target in test_loader:\n",
    "            data, target = data.to(device), target.to(device)\n",
    "            output = model(data)\n",
    "            test_loss += F.nll_loss(output, target, reduction='sum').item() # 将一批的损失相加\n",
    "            pred = output.max(1, keepdim=True)[1] # 找到概率最大的下标\n",
    "            correct += pred.eq(target.view_as(pred)).sum().item()\n",
    "\n",
    "    test_loss /= len(test_loader.dataset)\n",
    "    print('\\nTest set: Average loss: {:.4f}, Accuracy: {}/{} ({:.0f}%)\\n'.format(\n",
    "        test_loss, correct, len(test_loader.dataset),\n",
    "        100. * correct / len(test_loader.dataset)))"
   ]
  },
  {
   "cell_type": "code",
   "execution_count": 10,
   "metadata": {},
   "outputs": [
    {
     "name": "stdout",
     "output_type": "stream",
     "text": [
      "Train Epoch: 1 [14848/60000 (25%)]\tLoss: 0.352452\n",
      "Train Epoch: 1 [30208/60000 (50%)]\tLoss: 0.169698\n",
      "Train Epoch: 1 [45568/60000 (75%)]\tLoss: 0.156325\n",
      "\n",
      "Test set: Average loss: 0.1064, Accuracy: 9695/10000 (97%)\n",
      "\n",
      "Train Epoch: 2 [14848/60000 (25%)]\tLoss: 0.074486\n",
      "Train Epoch: 2 [30208/60000 (50%)]\tLoss: 0.086903\n",
      "Train Epoch: 2 [45568/60000 (75%)]\tLoss: 0.083561\n",
      "\n",
      "Test set: Average loss: 0.0532, Accuracy: 9826/10000 (98%)\n",
      "\n",
      "Train Epoch: 3 [14848/60000 (25%)]\tLoss: 0.066145\n",
      "Train Epoch: 3 [30208/60000 (50%)]\tLoss: 0.060237\n",
      "Train Epoch: 3 [45568/60000 (75%)]\tLoss: 0.041225\n",
      "\n",
      "Test set: Average loss: 0.0494, Accuracy: 9837/10000 (98%)\n",
      "\n",
      "Train Epoch: 4 [14848/60000 (25%)]\tLoss: 0.051022\n",
      "Train Epoch: 4 [30208/60000 (50%)]\tLoss: 0.046775\n",
      "Train Epoch: 4 [45568/60000 (75%)]\tLoss: 0.072948\n",
      "\n",
      "Test set: Average loss: 0.0384, Accuracy: 9872/10000 (99%)\n",
      "\n",
      "Train Epoch: 5 [14848/60000 (25%)]\tLoss: 0.029399\n",
      "Train Epoch: 5 [30208/60000 (50%)]\tLoss: 0.025843\n",
      "Train Epoch: 5 [45568/60000 (75%)]\tLoss: 0.028170\n",
      "\n",
      "Test set: Average loss: 0.0366, Accuracy: 9870/10000 (99%)\n",
      "\n",
      "Train Epoch: 6 [14848/60000 (25%)]\tLoss: 0.017940\n",
      "Train Epoch: 6 [30208/60000 (50%)]\tLoss: 0.021285\n",
      "Train Epoch: 6 [45568/60000 (75%)]\tLoss: 0.074452\n",
      "\n",
      "Test set: Average loss: 0.0405, Accuracy: 9866/10000 (99%)\n",
      "\n",
      "Train Epoch: 7 [14848/60000 (25%)]\tLoss: 0.022972\n",
      "Train Epoch: 7 [30208/60000 (50%)]\tLoss: 0.018554\n",
      "Train Epoch: 7 [45568/60000 (75%)]\tLoss: 0.024642\n",
      "\n",
      "Test set: Average loss: 0.0312, Accuracy: 9896/10000 (99%)\n",
      "\n",
      "Train Epoch: 8 [14848/60000 (25%)]\tLoss: 0.026952\n",
      "Train Epoch: 8 [30208/60000 (50%)]\tLoss: 0.006869\n",
      "Train Epoch: 8 [45568/60000 (75%)]\tLoss: 0.009183\n",
      "\n",
      "Test set: Average loss: 0.0352, Accuracy: 9894/10000 (99%)\n",
      "\n",
      "Train Epoch: 9 [14848/60000 (25%)]\tLoss: 0.016964\n",
      "Train Epoch: 9 [30208/60000 (50%)]\tLoss: 0.003175\n",
      "Train Epoch: 9 [45568/60000 (75%)]\tLoss: 0.012083\n",
      "\n",
      "Test set: Average loss: 0.0341, Accuracy: 9886/10000 (99%)\n",
      "\n",
      "Train Epoch: 10 [14848/60000 (25%)]\tLoss: 0.009415\n",
      "Train Epoch: 10 [30208/60000 (50%)]\tLoss: 0.013140\n",
      "Train Epoch: 10 [45568/60000 (75%)]\tLoss: 0.007250\n",
      "\n",
      "Test set: Average loss: 0.0339, Accuracy: 9889/10000 (99%)\n",
      "\n",
      "Train Epoch: 11 [14848/60000 (25%)]\tLoss: 0.014964\n",
      "Train Epoch: 11 [30208/60000 (50%)]\tLoss: 0.007439\n",
      "Train Epoch: 11 [45568/60000 (75%)]\tLoss: 0.016250\n",
      "\n",
      "Test set: Average loss: 0.0333, Accuracy: 9899/10000 (99%)\n",
      "\n",
      "Train Epoch: 12 [14848/60000 (25%)]\tLoss: 0.006274\n",
      "Train Epoch: 12 [30208/60000 (50%)]\tLoss: 0.004675\n",
      "Train Epoch: 12 [45568/60000 (75%)]\tLoss: 0.005168\n",
      "\n",
      "Test set: Average loss: 0.0439, Accuracy: 9878/10000 (99%)\n",
      "\n",
      "Train Epoch: 13 [14848/60000 (25%)]\tLoss: 0.012621\n",
      "Train Epoch: 13 [30208/60000 (50%)]\tLoss: 0.007844\n",
      "Train Epoch: 13 [45568/60000 (75%)]\tLoss: 0.011982\n",
      "\n",
      "Test set: Average loss: 0.0367, Accuracy: 9894/10000 (99%)\n",
      "\n",
      "Train Epoch: 14 [14848/60000 (25%)]\tLoss: 0.003608\n",
      "Train Epoch: 14 [30208/60000 (50%)]\tLoss: 0.004773\n",
      "Train Epoch: 14 [45568/60000 (75%)]\tLoss: 0.023010\n",
      "\n",
      "Test set: Average loss: 0.0372, Accuracy: 9895/10000 (99%)\n",
      "\n",
      "Train Epoch: 15 [14848/60000 (25%)]\tLoss: 0.008099\n",
      "Train Epoch: 15 [30208/60000 (50%)]\tLoss: 0.014994\n",
      "Train Epoch: 15 [45568/60000 (75%)]\tLoss: 0.003244\n",
      "\n",
      "Test set: Average loss: 0.0370, Accuracy: 9902/10000 (99%)\n",
      "\n",
      "Train Epoch: 16 [14848/60000 (25%)]\tLoss: 0.005853\n",
      "Train Epoch: 16 [30208/60000 (50%)]\tLoss: 0.003572\n",
      "Train Epoch: 16 [45568/60000 (75%)]\tLoss: 0.011587\n",
      "\n",
      "Test set: Average loss: 0.0306, Accuracy: 9900/10000 (99%)\n",
      "\n",
      "Train Epoch: 17 [14848/60000 (25%)]\tLoss: 0.001621\n",
      "Train Epoch: 17 [30208/60000 (50%)]\tLoss: 0.002368\n",
      "Train Epoch: 17 [45568/60000 (75%)]\tLoss: 0.024347\n",
      "\n",
      "Test set: Average loss: 0.0360, Accuracy: 9910/10000 (99%)\n",
      "\n",
      "Train Epoch: 18 [14848/60000 (25%)]\tLoss: 0.001780\n",
      "Train Epoch: 18 [30208/60000 (50%)]\tLoss: 0.001005\n",
      "Train Epoch: 18 [45568/60000 (75%)]\tLoss: 0.002927\n",
      "\n",
      "Test set: Average loss: 0.0336, Accuracy: 9905/10000 (99%)\n",
      "\n",
      "Train Epoch: 19 [14848/60000 (25%)]\tLoss: 0.002505\n",
      "Train Epoch: 19 [30208/60000 (50%)]\tLoss: 0.000316\n",
      "Train Epoch: 19 [45568/60000 (75%)]\tLoss: 0.010421\n",
      "\n",
      "Test set: Average loss: 0.0355, Accuracy: 9888/10000 (99%)\n",
      "\n",
      "Train Epoch: 20 [14848/60000 (25%)]\tLoss: 0.000215\n",
      "Train Epoch: 20 [30208/60000 (50%)]\tLoss: 0.000952\n",
      "Train Epoch: 20 [45568/60000 (75%)]\tLoss: 0.008140\n",
      "\n",
      "Test set: Average loss: 0.0409, Accuracy: 9895/10000 (99%)\n",
      "\n"
     ]
    }
   ],
   "source": [
    "for epoch in range(1, EPOCHS + 1):\n",
    "    train(model, DEVICE, train_loader, optimizer, epoch)\n",
    "    test(model, DEVICE, test_loader)\n"
   ]
  },
  {
   "cell_type": "code",
   "execution_count": null,
   "metadata": {},
   "outputs": [],
   "source": []
  }
 ],
 "metadata": {
  "kernelspec": {
   "display_name": "Python 3",
   "language": "python",
   "name": "python3"
  },
  "language_info": {
   "codemirror_mode": {
    "name": "ipython",
    "version": 3
   },
   "file_extension": ".py",
   "mimetype": "text/x-python",
   "name": "python",
   "nbconvert_exporter": "python",
   "pygments_lexer": "ipython3",
   "version": "3.7.6"
  }
 },
 "nbformat": 4,
 "nbformat_minor": 4
}
