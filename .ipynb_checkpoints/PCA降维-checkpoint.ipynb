{
 "cells": [
  {
   "cell_type": "code",
   "execution_count": 1,
   "metadata": {},
   "outputs": [],
   "source": [
    "import numpy as np\n",
    "import pandas as pd"
   ]
  },
  {
   "cell_type": "code",
   "execution_count": 5,
   "metadata": {},
   "outputs": [],
   "source": [
    "df = pd.read_csv('./多元统计.csv', header=None)"
   ]
  },
  {
   "cell_type": "code",
   "execution_count": 8,
   "metadata": {},
   "outputs": [
    {
     "data": {
      "text/html": [
       "<div>\n",
       "<style scoped>\n",
       "    .dataframe tbody tr th:only-of-type {\n",
       "        vertical-align: middle;\n",
       "    }\n",
       "\n",
       "    .dataframe tbody tr th {\n",
       "        vertical-align: top;\n",
       "    }\n",
       "\n",
       "    .dataframe thead th {\n",
       "        text-align: right;\n",
       "    }\n",
       "</style>\n",
       "<table border=\"1\" class=\"dataframe\">\n",
       "  <thead>\n",
       "    <tr style=\"text-align: right;\">\n",
       "      <th></th>\n",
       "      <th>0</th>\n",
       "      <th>1</th>\n",
       "      <th>2</th>\n",
       "      <th>3</th>\n",
       "      <th>4</th>\n",
       "    </tr>\n",
       "  </thead>\n",
       "  <tbody>\n",
       "    <tr>\n",
       "      <th>0</th>\n",
       "      <td>87.9</td>\n",
       "      <td>19.6</td>\n",
       "      <td>1.0</td>\n",
       "      <td>1661</td>\n",
       "      <td>28.37</td>\n",
       "    </tr>\n",
       "    <tr>\n",
       "      <th>1</th>\n",
       "      <td>89.9</td>\n",
       "      <td>15.2</td>\n",
       "      <td>90.1</td>\n",
       "      <td>968</td>\n",
       "      <td>28.77</td>\n",
       "    </tr>\n",
       "    <tr>\n",
       "      <th>2</th>\n",
       "      <td>153.0</td>\n",
       "      <td>19.7</td>\n",
       "      <td>56.6</td>\n",
       "      <td>1353</td>\n",
       "      <td>26.04</td>\n",
       "    </tr>\n",
       "    <tr>\n",
       "      <th>3</th>\n",
       "      <td>132.0</td>\n",
       "      <td>17.0</td>\n",
       "      <td>91.0</td>\n",
       "      <td>1293</td>\n",
       "      <td>25.74</td>\n",
       "    </tr>\n",
       "    <tr>\n",
       "      <th>4</th>\n",
       "      <td>88.8</td>\n",
       "      <td>18.3</td>\n",
       "      <td>93.7</td>\n",
       "      <td>1153</td>\n",
       "      <td>26.68</td>\n",
       "    </tr>\n",
       "  </tbody>\n",
       "</table>\n",
       "</div>"
      ],
      "text/plain": [
       "       0     1     2     3      4\n",
       "0   87.9  19.6   1.0  1661  28.37\n",
       "1   89.9  15.2  90.1   968  28.77\n",
       "2  153.0  19.7  56.6  1353  26.04\n",
       "3  132.0  17.0  91.0  1293  25.74\n",
       "4   88.8  18.3  93.7  1153  26.68"
      ]
     },
     "execution_count": 8,
     "metadata": {},
     "output_type": "execute_result"
    }
   ],
   "source": [
    "df.head()"
   ]
  },
  {
   "cell_type": "markdown",
   "metadata": {},
   "source": [
    "**数据说明**\n",
    "对其进行PCA主成分分析并降维\n",
    "* x1: 11、 12月 降水量\n",
    "* x2: 7月份的平均温度\n",
    "* x3: 7月份的降水量\n",
    "* x4: 7月份的辐射\n",
    "* x5: 农作物的平均产量"
   ]
  },
  {
   "cell_type": "code",
   "execution_count": 11,
   "metadata": {},
   "outputs": [],
   "source": [
    "def Center_stadardization(X):\n",
    "    X -= np.mean(X, axis =0)\n",
    "    X /= np.std(X, axis = 0)\n",
    "    return X\n"
   ]
  },
  {
   "cell_type": "code",
   "execution_count": 21,
   "metadata": {},
   "outputs": [
    {
     "name": "stdout",
     "output_type": "stream",
     "text": [
      "特征值： [33.93133277 14.9921314   3.2721122   1.22707347  1.57735015]\n",
      "特征向量： [[-0.37480383  0.5817003  -0.49818036 -0.48446445  0.19559493]\n",
      " [ 0.3792745   0.54733987  0.67846509 -0.29450114  0.0975916 ]\n",
      " [-0.53201906 -0.09255771  0.33218039 -0.32452519 -0.70194614]\n",
      " [ 0.47903328  0.36242998 -0.38262666  0.18459298 -0.67726944]\n",
      " [ 0.45072805 -0.47129759 -0.18642552 -0.7342834  -0.02821746]]\n"
     ]
    }
   ],
   "source": [
    "mat = np.mat(Center_stadardization(np.array(df)))\n",
    "eigenvalue, featurevector = np.linalg.eig(mat.T * mat)\n",
    "print(\"特征值：\",eigenvalue)\n",
    "print(\"特征向量：\", featurevector)"
   ]
  },
  {
   "cell_type": "code",
   "execution_count": 25,
   "metadata": {},
   "outputs": [
    {
     "name": "stdout",
     "output_type": "stream",
     "text": [
      "C_1, q=1 0.6169333231466\n",
      "C_2, q=2 0.8895175304906894\n",
      "C_3, q=3 0.9490104795333598\n",
      "C_4, q=4 0.971320906273599\n"
     ]
    }
   ],
   "source": [
    "n, p = featurevector.shape\n",
    "for i in range(p):\n",
    "    print('C_{}, q={}'.format(i, i), \n",
    "          np.sum(eigenvalue[:i]) / np.sum(eigenvalue))\n",
    "C_0 = 0.85"
   ]
  },
  {
   "cell_type": "markdown",
   "metadata": {},
   "source": [
    "即 q = 2时， alpha_q >= c_0"
   ]
  }
 ],
 "metadata": {
  "kernelspec": {
   "display_name": "Python 3",
   "language": "python",
   "name": "python3"
  },
  "language_info": {
   "codemirror_mode": {
    "name": "ipython",
    "version": 3
   },
   "file_extension": ".py",
   "mimetype": "text/x-python",
   "name": "python",
   "nbconvert_exporter": "python",
   "pygments_lexer": "ipython3",
   "version": "3.7.6"
  }
 },
 "nbformat": 4,
 "nbformat_minor": 4
}
