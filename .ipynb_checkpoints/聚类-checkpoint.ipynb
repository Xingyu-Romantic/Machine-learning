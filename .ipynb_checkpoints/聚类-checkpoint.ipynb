{
 "cells": [
  {
   "cell_type": "markdown",
   "metadata": {},
   "source": [
    "# 聚类算法\n",
    "> <p> 博客地址:  https://xingyublog.netlify.app/ </p>\n",
    "> <p>模式识别 课程 学习代码 </p>\n",
    "> <p>Email：a940858626@qq.com</p>"
   ]
  },
  {
   "cell_type": "markdown",
   "metadata": {},
   "source": [
    "##  1.1 距离函数"
   ]
  },
  {
   "cell_type": "code",
   "execution_count": 1,
   "metadata": {},
   "outputs": [],
   "source": [
    "import numpy as np"
   ]
  },
  {
   "cell_type": "code",
   "execution_count": 2,
   "metadata": {},
   "outputs": [],
   "source": [
    "def distance(X1, X2, types = 'Euclidean'):\n",
    "    # 欧式距离 Euclidean Distance\n",
    "    if types == 'Euclidean':\n",
    "        X1 = np.array(X1)\n",
    "        X2 = np.array(X2)\n",
    "        distance = np.sqrt(np.dot( (X1 - X2).T, (X1 - X2) ))\n",
    "    return distance "
   ]
  },
  {
   "cell_type": "code",
   "execution_count": 3,
   "metadata": {},
   "outputs": [
    {
     "name": "stdout",
     "output_type": "stream",
     "text": [
      "1.4142135623730951\n"
     ]
    }
   ],
   "source": [
    "# 测试 distance\n",
    "print(distance(np.array([1,1]), np.array([2,2])))"
   ]
  },
  {
   "cell_type": "markdown",
   "metadata": {},
   "source": [
    "## 1.2 基于距离阈值的聚类算法\n",
    "### 1.2.1 近邻聚类算法"
   ]
  },
  {
   "cell_type": "markdown",
   "metadata": {},
   "source": [
    "#### 导入数据"
   ]
  },
  {
   "cell_type": "code",
   "execution_count": 4,
   "metadata": {},
   "outputs": [
    {
     "data": {
      "text/plain": [
       "((15, 2), (10, 2), (5, 2))"
      ]
     },
     "execution_count": 4,
     "metadata": {},
     "output_type": "execute_result"
    }
   ],
   "source": [
    "\n",
    "M = np.array([[170, 180, 190, 150, 190, 210, 170, 140, 150, 130], \n",
    "              [68, 71, 73, 66, 68, 76, 75, 62, 66, 66]])\n",
    "F = np.array([[130, 160, 100, 150, 120],\n",
    "              [66, 70, 58, 64, 66]])\n",
    "data = np.vstack((M.T, F.T))\n",
    "data.shape, M.T.shape, F.T.shape"
   ]
  },
  {
   "cell_type": "markdown",
   "metadata": {},
   "source": [
    "#### 绘制数据散点图"
   ]
  },
  {
   "cell_type": "code",
   "execution_count": 5,
   "metadata": {},
   "outputs": [
    {
     "data": {
      "image/png": "[encoded data removed]",
      "text/plain": [
       "<Figure size 432x288 with 1 Axes>"
      ]
     },
     "metadata": {},
     "output_type": "display_data"
    }
   ],
   "source": [
    "import matplotlib.pyplot as plt\n",
    "plt.rc_context({'axes.edgecolor':'orange', 'xtick.color':'green', 'ytick.color':'green', 'figure.facecolor':'white'})\n",
    "plt.scatter(M[0], M[1], color = 'blue', label= 'Male')\n",
    "plt.scatter(F[0], F[1], color = 'RED', label= 'Female')\n",
    "plt.legend([\"Male\",\"Female\"])\n",
    "plt.xlabel('Heigh', color = 'white')\n",
    "plt.ylabel('Weight', color = 'white')\n",
    "plt.show()"
   ]
  },
  {
   "cell_type": "markdown",
   "metadata": {},
   "source": [
    "#### 初始化聚类变量"
   ]
  },
  {
   "cell_type": "code",
   "execution_count": 6,
   "metadata": {},
   "outputs": [],
   "source": [
    "# m 样本数量\n",
    "m = data.shape[0]\n",
    "# 设置工作结构数组 变量 pattern\n",
    "'''\n",
    "pattern = {}\n",
    "pattern['feature'] = np.array(data)\n",
    "pattern['classno'] = np.zeros((m,1))\n",
    "'''\n",
    "pattern = [{}] * m\n",
    "for i in range(0, m):\n",
    "    tmp = {'feature': np.array(data[i,:]),\n",
    "           'classno': 0}\n",
    "    pattern[i] = tmp"
   ]
  },
  {
   "cell_type": "code",
   "execution_count": 7,
   "metadata": {},
   "outputs": [],
   "source": [
    "#随机选取一个样本号\n",
    "import random\n",
    "s = np.random.randint(0, m)\n",
    "# 设置聚类中心结构数组 变量 Z\n",
    "Z = [{}] * m \n",
    "\n",
    "Z[0] = ({'feature': pattern[s]['feature'], # 将随机选取的样本作为第一个聚类中心代表\n",
    "        'id': 1,     #中心代表的类标号\n",
    "        'patternNum': 1})  #类中样本个数\n",
    "pattern[s]['classno'] =  1 # 模式分类标号\n",
    "classNum = 0     #类数初值\n",
    "# 阈值\n",
    "T = 40\n",
    "for i in range(0, m):\n",
    "    mindis = np.inf\n",
    "    index = 1   #记录最小距离的类号\n",
    "    for j in range(0, classNum):\n",
    "        dis = distance(pattern[i]['feature'], Z[j]['feature'])\n",
    "        if dis < mindis:\n",
    "            mindis = dis\n",
    "            index = j\n",
    "    if mindis < T:   #不需要新建类\n",
    "        pattern[i]['classno'] = Z[index]['id']\n",
    "        n = Z[index]['patternNum']\n",
    "        Z[index]['patternNum'] = n + 1\n",
    "        tempmean = Z[index]['feature']\n",
    "        Z[index]['feature'] = (n * tempmean + pattern[i]['feature']) / (n + 1) # 计算类新增均值向量\n",
    "    else:\n",
    "        classNum += 1\n",
    "        pattern[i]['classno'] = classNum\n",
    "        Z[classNum-1]['feature'] = pattern[i]['feature']\n",
    "        Z[classNum-1]['id'] = classNum\n",
    "        Z[classNum-1]['patternNum'] = 1\n",
    "    \n"
   ]
  },
  {
   "cell_type": "code",
   "execution_count": 8,
   "metadata": {},
   "outputs": [
    {
     "data": {
      "text/html": [
       "<div>\n",
       "<style scoped>\n",
       "    .dataframe tbody tr th:only-of-type {\n",
       "        vertical-align: middle;\n",
       "    }\n",
       "\n",
       "    .dataframe tbody tr th {\n",
       "        vertical-align: top;\n",
       "    }\n",
       "\n",
       "    .dataframe thead th {\n",
       "        text-align: right;\n",
       "    }\n",
       "</style>\n",
       "<table border=\"1\" class=\"dataframe\">\n",
       "  <thead>\n",
       "    <tr style=\"text-align: right;\">\n",
       "      <th></th>\n",
       "      <th>feature</th>\n",
       "      <th>classno</th>\n",
       "      <th>heigh</th>\n",
       "      <th>weight</th>\n",
       "    </tr>\n",
       "  </thead>\n",
       "  <tbody>\n",
       "    <tr>\n",
       "      <th>0</th>\n",
       "      <td>[170, 68]</td>\n",
       "      <td>1</td>\n",
       "      <td>170</td>\n",
       "      <td>68</td>\n",
       "    </tr>\n",
       "    <tr>\n",
       "      <th>1</th>\n",
       "      <td>[180, 71]</td>\n",
       "      <td>1</td>\n",
       "      <td>180</td>\n",
       "      <td>71</td>\n",
       "    </tr>\n",
       "    <tr>\n",
       "      <th>2</th>\n",
       "      <td>[190, 73]</td>\n",
       "      <td>1</td>\n",
       "      <td>190</td>\n",
       "      <td>73</td>\n",
       "    </tr>\n",
       "    <tr>\n",
       "      <th>3</th>\n",
       "      <td>[150, 66]</td>\n",
       "      <td>1</td>\n",
       "      <td>150</td>\n",
       "      <td>66</td>\n",
       "    </tr>\n",
       "    <tr>\n",
       "      <th>4</th>\n",
       "      <td>[190, 68]</td>\n",
       "      <td>1</td>\n",
       "      <td>190</td>\n",
       "      <td>68</td>\n",
       "    </tr>\n",
       "  </tbody>\n",
       "</table>\n",
       "</div>"
      ],
      "text/plain": [
       "     feature  classno  heigh  weight\n",
       "0  [170, 68]        1    170      68\n",
       "1  [180, 71]        1    180      71\n",
       "2  [190, 73]        1    190      73\n",
       "3  [150, 66]        1    150      66\n",
       "4  [190, 68]        1    190      68"
      ]
     },
     "execution_count": 8,
     "metadata": {},
     "output_type": "execute_result"
    }
   ],
   "source": [
    "# 将得到数据转化成pandas 然后绘图\n",
    "import pandas as pd\n",
    "df = pd.DataFrame(pattern)\n",
    "df['heigh'] = [x[0] for x in df['feature']]\n",
    "df['weight'] = [x[1] for x in df['feature']]\n",
    "df.head()"
   ]
  },
  {
   "cell_type": "code",
   "execution_count": 9,
   "metadata": {},
   "outputs": [
    {
     "data": {
      "text/plain": [
       "'\\nimport seaborn as sns\\n\\ng = sns.relplot(\\n    data=df,\\n    x=\\'heigh\\', y=\\'weight\\',\\n    hue=\"classno\",\\n    sizes=(10, 200),\\n)\\ng.set(xlim=(df[\\'heigh\\'].min(), df[\\'heigh\\'].max()))\\ng.add_legend()\\n'"
      ]
     },
     "execution_count": 9,
     "metadata": {},
     "output_type": "execute_result"
    }
   ],
   "source": [
    "\n",
    "\n",
    "'''\n",
    "import seaborn as sns\n",
    "\n",
    "g = sns.relplot(\n",
    "    data=df,\n",
    "    x='heigh', y='weight',\n",
    "    hue=\"classno\",\n",
    "    sizes=(10, 200),\n",
    ")\n",
    "g.set(xlim=(df['heigh'].min(), df['heigh'].max()))\n",
    "g.add_legend()\n",
    "'''"
   ]
  },
  {
   "cell_type": "markdown",
   "metadata": {},
   "source": [
    "#### 绘制原始图像和聚类后图像"
   ]
  },
  {
   "cell_type": "code",
   "execution_count": 10,
   "metadata": {},
   "outputs": [
    {
     "data": {
      "image/png": "[encoded data removed]",
      "text/plain": [
       "<Figure size 432x288 with 2 Axes>"
      ]
     },
     "metadata": {},
     "output_type": "display_data"
    }
   ],
   "source": [
    "plt.rc_context({'axes.edgecolor':'orange', 'xtick.color':'green', 'ytick.color':'green', 'figure.facecolor':'white'})\n",
    "plt.subplot(2,  1,  1)  \n",
    "plt.scatter(M[0], M[1], color = 'blue', label= 'Male')\n",
    "plt.scatter(F[0], F[1], color = 'RED', label= 'Female')\n",
    "plt.legend([\"Male\",\"Female\"])\n",
    "plt.xlabel('Heigh', color = 'white')\n",
    "plt.ylabel('Weight', color = 'white')\n",
    "plt.title('Original Data')\n",
    "plt.tight_layout() #设置默认的间距\n",
    "plt.subplot(2,  1,  2)  \n",
    "plt.scatter(df[df['classno']==1]['heigh'], df[df['classno']==1]['weight'], color = 'blue', label = 'Male')\n",
    "plt.scatter(df[df['classno']==2]['heigh'], df[df['classno']==2]['weight'], color = 'red', label = 'Female')\n",
    "plt.legend([\"Male\",\"Female\"])\n",
    "plt.xlabel('Heigh', color = 'white')\n",
    "plt.ylabel('Weight', color = 'white')\n",
    "plt.title('Cluster data')\n",
    "plt.show()"
   ]
  },
  {
   "cell_type": "code",
   "execution_count": 11,
   "metadata": {},
   "outputs": [],
   "source": [
    "# 最终结构\n",
    "\n",
    "class Nearest_neighbor(object):\n",
    "    def __init__(self, X, types = 'Euclidean', T = 2.5):\n",
    "        self.X = np.array(X)\n",
    "        self.m = self.X.shape[0]\n",
    "        self.dist_type = types\n",
    "        self.pattern = [{}] * self.m\n",
    "        self.T = T\n",
    "        for i in range(0, self.m):\n",
    "            tmp = {'feature': np.array(self.X[i,:]),\n",
    "                   'classno': 0}\n",
    "            self.pattern[i] = tmp\n",
    "        self.Z = [None] * self.m\n",
    "    def distance(self, X1, X2):\n",
    "        # 欧式距离 Euclidean Distance\n",
    "        if self.dist_type == 'Euclidean':\n",
    "            X1 = np.array(X1)\n",
    "            X2 = np.array(X2)\n",
    "            distance = np.sqrt(np.dot( (X1 - X2).T, (X1 - X2) ))\n",
    "        return distance \n",
    "    def cluster(self):\n",
    "        s = np.random.randint(0, self.m)\n",
    "        # 设置聚类中心结构数组 变量 Z\n",
    "        self.Z[0] = {'feature': self.pattern[s]['feature'], # 将随机选取的样本作为第一个聚类中心代表\n",
    "                'id': 1,     #中心代表的类标号\n",
    "                'patternNum': 1} #类中样本个数\n",
    "        self.pattern[s]['classno'] =  1 # 模式分类标号\n",
    "        classNum = 0     #类数初值\n",
    "        # 阈值\n",
    "        for i in range(0, self.m):\n",
    "            mindis = np.inf\n",
    "            index = 1   #记录最小距离的类号\n",
    "            for j in range(0, classNum):\n",
    "                dis = self.distance(self.pattern[i]['feature'], self.Z[j]['feature'])\n",
    "                if dis < mindis:\n",
    "                    mindis = dis\n",
    "                    index = j\n",
    "            if mindis < self.T:   #不需要新建类\n",
    "                self.pattern[i]['classno'] = self.Z[index]['id']\n",
    "                n = self.Z[index]['patternNum']\n",
    "                self.Z[index]['patternNum'] = n + 1\n",
    "                tempmean = self.Z[index]['feature']\n",
    "                self.Z[index]['feature'] = (n * tempmean + self.pattern[i]['feature']) / (n + 1) # 计算类新增均值向量\n",
    "            else:\n",
    "                classNum += 1\n",
    "                self.pattern[i]['classno'] = classNum\n",
    "                temp = {'feature':self.pattern[i]['feature'], 'id': classNum, 'patternNum': 1}\n",
    "                self.Z[classNum-1] = temp\n",
    "        cluster_result={'pattern': self.pattern,\n",
    "                        'Z' : self.Z}\n",
    "        return cluster_result"
   ]
  },
  {
   "cell_type": "markdown",
   "metadata": {},
   "source": [
    "#### 测试聚类算法"
   ]
  },
  {
   "cell_type": "code",
   "execution_count": 12,
   "metadata": {},
   "outputs": [
    {
     "data": {
      "text/plain": [
       "(8, 2)"
      ]
     },
     "execution_count": 12,
     "metadata": {},
     "output_type": "execute_result"
    }
   ],
   "source": [
    "sample = np.array([[1,3,3,2,5,4,6,5],\n",
    "          [2,7,2,1,3,7,4,5]])\n",
    "sample = sample.T\n",
    "sample.shape"
   ]
  },
  {
   "cell_type": "code",
   "execution_count": 13,
   "metadata": {},
   "outputs": [
    {
     "data": {
      "image/png": "[encoded data removed]",
      "text/plain": [
       "<Figure size 432x288 with 1 Axes>"
      ]
     },
     "metadata": {},
     "output_type": "display_data"
    }
   ],
   "source": [
    "import matplotlib.pyplot as plt\n",
    "plt.rc_context({'axes.edgecolor':'orange', 'xtick.color':'green', 'ytick.color':'green', 'figure.facecolor':'white'})\n",
    "plt.scatter([x[0] for x in sample],[x[1] for x in sample], color = 'blue')\n",
    "plt.xlabel('Heigh', color = 'white')\n",
    "plt.ylabel('Weight', color = 'white')\n",
    "plt.show()"
   ]
  },
  {
   "cell_type": "code",
   "execution_count": 14,
   "metadata": {},
   "outputs": [
    {
     "name": "stdout",
     "output_type": "stream",
     "text": [
      "{'feature': array([2.        , 1.66666667]), 'id': 1, 'patternNum': 3}\n",
      "\n",
      "\n",
      "{'feature': array([3.5, 7. ]), 'id': 2, 'patternNum': 2}\n",
      "\n",
      "\n",
      "{'feature': array([5.33333333, 4.        ]), 'id': 3, 'patternNum': 3}\n",
      "\n",
      "\n"
     ]
    }
   ],
   "source": [
    "\n",
    "test = Nearest_neighbor(sample, T=2.5)\n",
    "result = test.cluster()\n",
    "for i in result['Z']:\n",
    "    if(i):\n",
    "        print(i)\n",
    "        print('\\n')"
   ]
  },
  {
   "cell_type": "markdown",
   "metadata": {},
   "source": [
    "### 1.3 K_Means 算法"
   ]
  },
  {
   "cell_type": "markdown",
   "metadata": {},
   "source": [
    "#### 导入数据"
   ]
  },
  {
   "cell_type": "markdown",
   "metadata": {},
   "source": [
    "#### 初始化参数\n"
   ]
  },
  {
   "cell_type": "code",
   "execution_count": 15,
   "metadata": {},
   "outputs": [],
   "source": [
    "class K_Means(object):\n",
    "    def __init__(self, X, K, T = 2.5, types = 'Euclidean'):\n",
    "        self.types = types\n",
    "        self.m, self.nv = X.shape   # 获取样本个数和样本数\n",
    "        self.K = K # 定义类数\n",
    "        self.kclass =[{i} for i in random.sample(range(0, self.m), K)]\n",
    "        self.Z = np.zeros((K,self.nv)) \n",
    "        self.Z_new = np.zeros((K,self.nv))\n",
    "        self.D = np.empty((self.m,self.K))\n",
    "        self.pattern = [{None}] * self.m\n",
    "        self.value = {}   # #初始化类样本的坐标\n",
    "        self.data = X\n",
    "    def distance(self, X1, X2):\n",
    "        # 欧式距离 Euclidean Distance\n",
    "        if self.types == 'Euclidean':\n",
    "            X1 = np.array(X1)\n",
    "            X2 = np.array(X2)\n",
    "            distance = np.sqrt(np.dot( (X1 - X2).T, (X1 - X2) ))\n",
    "        return distance \n",
    "    def claster(self):\n",
    "        i = 0\n",
    "        print(self.kclass)\n",
    "        for j in self.kclass:\n",
    "            j = list(j)[0]\n",
    "            self.Z[i] = self.data[j]\n",
    "            if i<self.K:\n",
    "                i +=1 \n",
    "            else:\n",
    "                break\n",
    "        for i in range(self.K):\n",
    "            self.value['w'+str(i)] = self.Z[i]\n",
    "        n = 1\n",
    "        while True:\n",
    "            for j in range(self.m):\n",
    "                for i in range(self.K):\n",
    "                    self.D[j,i] = self.distance(self.data[j,:],self.Z[i,:])\n",
    "                idx = np.argmin(self.D[j])\n",
    "                self.kclass[idx].add(j)\n",
    "                self.value['w'+str(idx)] = np.vstack((self.value['w'+str(idx)],self.data[j,:]))\n",
    "            for j in range(self.K):\n",
    "                self.Z_new[j] = np.mean(self.value['w'+str(j)], axis=0)\n",
    "            if((self.Z == self.Z_new).any()):\n",
    "                break\n",
    "            else:\n",
    "                self.Z = self.Z_new\n",
    "                n += 1\n",
    "                \n",
    "        # 输出结果\n",
    "        for j in range(self.K):\n",
    "            print(\"第%d个聚类中心\"%(j+1))\n",
    "            print(self.Z_new[j])\n",
    "        print(\"显示K-Means聚类结果和每个聚类中含的样本: \\n\")\n",
    "        \n",
    "        for i in range(self.m):\n",
    "            tmp = {'feature':self.data[i,:]}\n",
    "            self.pattern[i] = tmp\n",
    "        for j in range(self.K):\n",
    "            r = len(self.kclass[j])\n",
    "            for p in range(r):\n",
    "                self.pattern[list(self.kclass[j])[p]]['classno'] = j\n",
    "        \n",
    "        print('显示每个样本的特征及类号:\\n')\n",
    "        for i in range(self.m):\n",
    "            print('%d-th sample:'%(i))\n",
    "            print(self.pattern[i]['feature'])\n",
    "            print('its classno: %d \\n'%(self.pattern[i]['classno']))\n",
    "\n",
    "        result = {}\n",
    "        result = {'Z': self.Z, 'value': self.value, 'pattern':self.pattern}\n",
    "        return result\n",
    "    def plot_result(self):\n",
    "        plt.rc_context({'axes.edgecolor':'orange', 'xtick.color':'green', 'ytick.color':'green', 'figure.facecolor':'white'})\n",
    "        pattern_df = pd.DataFrame(self.pattern)\n",
    "        pattern_df['x'] = [x[0] for x in pattern_df['feature']]\n",
    "        pattern_df['y'] = [x[1] for x in pattern_df['feature']]\n",
    "        plt.subplot(2,  1,  1) \n",
    "        plt.scatter([x[0] for x in self.data],[x[1] for x in self.data], color = 'blue')\n",
    "        plt.subplot(2,  1,  2)\n",
    "        colors = \"bgrcmykw\"\n",
    "        marker = 'o^p'\n",
    "        color_index = 0\n",
    "        for i in range(self.K):\n",
    "            plt.scatter(pattern_df[pattern_df.classno == i]['x'],pattern_df[pattern_df.classno == i]['y'], c=colors[color_index],marker=marker[i])\n",
    "            color_index +=1\n",
    "        plt.show()"
   ]
  },
  {
   "cell_type": "code",
   "execution_count": 16,
   "metadata": {},
   "outputs": [
    {
     "name": "stdout",
     "output_type": "stream",
     "text": [
      "[{7}, {4}, {6}]\n",
      "第1个聚类中心\n",
      "[4.25 6.  ]\n",
      "第2个聚类中心\n",
      "[3.2 2.6]\n",
      "第3个聚类中心\n",
      "[6. 4.]\n",
      "显示K-Means聚类结果和每个聚类中含的样本: \n",
      "\n",
      "显示每个样本的特征及类号:\n",
      "\n",
      "0-th sample:\n",
      "[1 2]\n",
      "its classno: 1 \n",
      "\n",
      "1-th sample:\n",
      "[3 7]\n",
      "its classno: 0 \n",
      "\n",
      "2-th sample:\n",
      "[3 2]\n",
      "its classno: 1 \n",
      "\n",
      "3-th sample:\n",
      "[2 1]\n",
      "its classno: 1 \n",
      "\n",
      "4-th sample:\n",
      "[5 4]\n",
      "its classno: 1 \n",
      "\n",
      "5-th sample:\n",
      "[4 7]\n",
      "its classno: 0 \n",
      "\n",
      "6-th sample:\n",
      "[6 4]\n",
      "its classno: 2 \n",
      "\n",
      "7-th sample:\n",
      "[5 5]\n",
      "its classno: 0 \n",
      "\n"
     ]
    },
    {
     "data": {
      "image/png": "[encoded data removed]",
      "text/plain": [
       "<Figure size 432x288 with 2 Axes>"
      ]
     },
     "metadata": {},
     "output_type": "display_data"
    }
   ],
   "source": [
    "data4 = np.array([[1,3,3,2,5,4,6,5],\n",
    "                  [2,7,2,1,4,7,4,5]])\n",
    "data4 =data4.T\n",
    "k_means_test = K_Means(data4, 3)\n",
    "result = k_means_test.claster() \n",
    "k_means_test.plot_result()"
   ]
  },
  {
   "cell_type": "code",
   "execution_count": 23,
   "metadata": {},
   "outputs": [
    {
     "name": "stdout",
     "output_type": "stream",
     "text": [
      "[{58}, {11}, {29}]\n",
      "第1个聚类中心\n",
      "[-5.32087052 -4.96962622]\n",
      "第2个聚类中心\n",
      "[-0.01396143 -0.14556919]\n",
      "第3个聚类中心\n",
      "[4.92583212 4.9810878 ]\n",
      "显示K-Means聚类结果和每个聚类中含的样本: \n",
      "\n",
      "显示每个样本的特征及类号:\n",
      "\n",
      "0-th sample:\n",
      "[-0.67977314 -0.58938816]\n",
      "its classno: 1 \n",
      "\n",
      "1-th sample:\n",
      "[-0.36225653 -1.06339055]\n",
      "its classno: 1 \n",
      "\n",
      "2-th sample:\n",
      "[ 1.04523593 -2.23780964]\n",
      "its classno: 1 \n",
      "\n",
      "3-th sample:\n",
      "[0.44081676 0.03067569]\n",
      "its classno: 1 \n",
      "\n",
      "4-th sample:\n",
      "[0.8330426  0.16201157]\n",
      "its classno: 1 \n",
      "\n",
      "5-th sample:\n",
      "[-0.78614894 -0.88914706]\n",
      "its classno: 1 \n",
      "\n",
      "6-th sample:\n",
      "[-0.84795168 -2.56752012]\n",
      "its classno: 1 \n",
      "\n",
      "7-th sample:\n",
      "[0.41469953 0.00415707]\n",
      "its classno: 1 \n",
      "\n",
      "8-th sample:\n",
      "[-1.3135753   0.35311164]\n",
      "its classno: 1 \n",
      "\n",
      "9-th sample:\n",
      "[1.87249264 0.2845829 ]\n",
      "its classno: 1 \n",
      "\n",
      "10-th sample:\n",
      "[-0.06010872  0.98537352]\n",
      "its classno: 1 \n",
      "\n",
      "11-th sample:\n",
      "[-0.42481026  0.84088878]\n",
      "its classno: 1 \n",
      "\n",
      "12-th sample:\n",
      "[ 0.38922845 -0.67271542]\n",
      "its classno: 1 \n",
      "\n",
      "13-th sample:\n",
      "[-0.49107171 -0.08858365]\n",
      "its classno: 1 \n",
      "\n",
      "14-th sample:\n",
      "[-1.19077721  0.07778389]\n",
      "its classno: 1 \n",
      "\n",
      "15-th sample:\n",
      "[0.23746195 0.67620986]\n",
      "its classno: 1 \n",
      "\n",
      "16-th sample:\n",
      "[0.7807341  0.38213279]\n",
      "its classno: 1 \n",
      "\n",
      "17-th sample:\n",
      "[-0.06778845  0.88723448]\n",
      "its classno: 1 \n",
      "\n",
      "18-th sample:\n",
      "[0.26540193 1.22820484]\n",
      "its classno: 1 \n",
      "\n",
      "19-th sample:\n",
      "[-0.12865614 -1.20842519]\n",
      "its classno: 1 \n",
      "\n",
      "20-th sample:\n",
      "[3.66439616 3.81303621]\n",
      "its classno: 2 \n",
      "\n",
      "21-th sample:\n",
      "[5.25670922 4.47959594]\n",
      "its classno: 2 \n",
      "\n",
      "22-th sample:\n",
      "[5.20057623 6.02590085]\n",
      "its classno: 2 \n",
      "\n",
      "23-th sample:\n",
      "[4.85932137 5.83626465]\n",
      "its classno: 2 \n",
      "\n",
      "24-th sample:\n",
      "[4.18002413 4.16044806]\n",
      "its classno: 2 \n",
      "\n",
      "25-th sample:\n",
      "[4.2146084  5.80324826]\n",
      "its classno: 2 \n",
      "\n",
      "26-th sample:\n",
      "[5.67204619 4.74084436]\n",
      "its classno: 2 \n",
      "\n",
      "27-th sample:\n",
      "[5.31397077 4.49226244]\n",
      "its classno: 2 \n",
      "\n",
      "28-th sample:\n",
      "[4.00253526 3.5817589 ]\n",
      "its classno: 2 \n",
      "\n",
      "29-th sample:\n",
      "[5.15633198 5.89586879]\n",
      "its classno: 2 \n",
      "\n",
      "30-th sample:\n",
      "[5.69076745 5.35177787]\n",
      "its classno: 2 \n",
      "\n",
      "31-th sample:\n",
      "[3.61825672 4.73404969]\n",
      "its classno: 2 \n",
      "\n",
      "32-th sample:\n",
      "[5.72694863 4.30257316]\n",
      "its classno: 2 \n",
      "\n",
      "33-th sample:\n",
      "[6.06311746 5.46087214]\n",
      "its classno: 2 \n",
      "\n",
      "34-th sample:\n",
      "[5.52606744 6.00411104]\n",
      "its classno: 2 \n",
      "\n",
      "35-th sample:\n",
      "[4.97034111 4.89222901]\n",
      "its classno: 2 \n",
      "\n",
      "36-th sample:\n",
      "[5.38653716 5.97997656]\n",
      "its classno: 2 \n",
      "\n",
      "37-th sample:\n",
      "[4.79731412 4.63163284]\n",
      "its classno: 2 \n",
      "\n",
      "38-th sample:\n",
      "[3.5001928  4.10351271]\n",
      "its classno: 2 \n",
      "\n",
      "39-th sample:\n",
      "[5.60132993 4.87440193]\n",
      "its classno: 2 \n",
      "\n",
      "40-th sample:\n",
      "[-4.93698339 -6.02690195]\n",
      "its classno: 0 \n",
      "\n",
      "41-th sample:\n",
      "[-5.07080319 -4.42008507]\n",
      "its classno: 0 \n",
      "\n",
      "42-th sample:\n",
      "[-4.7759429  -6.61516738]\n",
      "its classno: 0 \n",
      "\n",
      "43-th sample:\n",
      "[-3.98159199 -3.24226978]\n",
      "its classno: 0 \n",
      "\n",
      "44-th sample:\n",
      "[-4.83832527 -6.30788322]\n",
      "its classno: 0 \n",
      "\n",
      "45-th sample:\n",
      "[-4.52878018 -4.09443513]\n",
      "its classno: 0 \n",
      "\n",
      "46-th sample:\n",
      "[-3.44942138 -5.79823077]\n",
      "its classno: 0 \n",
      "\n",
      "47-th sample:\n",
      "[-6.6013728  -4.34930666]\n",
      "its classno: 0 \n",
      "\n",
      "48-th sample:\n",
      "[-5.35660614 -4.07714828]\n",
      "its classno: 0 \n",
      "\n",
      "49-th sample:\n",
      "[-6.18611854 -3.91594158]\n",
      "its classno: 0 \n",
      "\n",
      "50-th sample:\n",
      "[-6.47325889 -5.2931359 ]\n",
      "its classno: 0 \n",
      "\n",
      "51-th sample:\n",
      "[-6.00843416 -4.08424266]\n",
      "its classno: 0 \n",
      "\n",
      "52-th sample:\n",
      "[-4.50607909 -4.14950334]\n",
      "its classno: 0 \n",
      "\n",
      "53-th sample:\n",
      "[-5.54006656 -5.96941498]\n",
      "its classno: 0 \n",
      "\n",
      "54-th sample:\n",
      "[-5.89990784 -4.62217858]\n",
      "its classno: 0 \n",
      "\n",
      "55-th sample:\n",
      "[-4.39464702 -4.94357467]\n",
      "its classno: 0 \n",
      "\n",
      "56-th sample:\n",
      "[-5.9871988  -4.41403034]\n",
      "its classno: 0 \n",
      "\n",
      "57-th sample:\n",
      "[-5.80672857 -4.95228716]\n",
      "its classno: 0 \n",
      "\n",
      "58-th sample:\n",
      "[-5.40144492 -5.50915758]\n",
      "its classno: 0 \n",
      "\n",
      "59-th sample:\n",
      "[-6.63341159 -6.33786379]\n",
      "its classno: 0 \n",
      "\n"
     ]
    },
    {
     "data": {
      "image/png": "[encoded data removed]",
      "text/plain": [
       "<Figure size 432x288 with 2 Axes>"
      ]
     },
     "metadata": {},
     "output_type": "display_data"
    }
   ],
   "source": [
    "mean = (1, 2)\n",
    "cov = [[1, 0], [0, 1]]\n",
    "a1 = np.random.multivariate_normal((0,0), cov, 20, 'raise')\n",
    "a2 = np.random.multivariate_normal((5,5), cov, 20, 'raise')\n",
    "a3 = np.random.multivariate_normal((-5,-5), cov, 20, 'raise')\n",
    "data5 = np.concatenate((a1,a2,a3))\n",
    "data5\n",
    "k_means_test = K_Means(data5, 3)\n",
    "result = k_means_test.claster() \n",
    "k_means_test.plot_result()"
   ]
  },
  {
   "cell_type": "code",
   "execution_count": 18,
   "metadata": {},
   "outputs": [
    {
     "data": {
      "text/html": [
       "<div>\n",
       "<style scoped>\n",
       "    .dataframe tbody tr th:only-of-type {\n",
       "        vertical-align: middle;\n",
       "    }\n",
       "\n",
       "    .dataframe tbody tr th {\n",
       "        vertical-align: top;\n",
       "    }\n",
       "\n",
       "    .dataframe thead th {\n",
       "        text-align: right;\n",
       "    }\n",
       "</style>\n",
       "<table border=\"1\" class=\"dataframe\">\n",
       "  <thead>\n",
       "    <tr style=\"text-align: right;\">\n",
       "      <th></th>\n",
       "      <th>feature</th>\n",
       "      <th>classno</th>\n",
       "      <th>v</th>\n",
       "      <th>h</th>\n",
       "    </tr>\n",
       "  </thead>\n",
       "  <tbody>\n",
       "    <tr>\n",
       "      <th>0</th>\n",
       "      <td>[170, 68]</td>\n",
       "      <td>1</td>\n",
       "      <td>170</td>\n",
       "      <td>68</td>\n",
       "    </tr>\n",
       "    <tr>\n",
       "      <th>1</th>\n",
       "      <td>[180, 71]</td>\n",
       "      <td>1</td>\n",
       "      <td>180</td>\n",
       "      <td>71</td>\n",
       "    </tr>\n",
       "    <tr>\n",
       "      <th>2</th>\n",
       "      <td>[190, 73]</td>\n",
       "      <td>1</td>\n",
       "      <td>190</td>\n",
       "      <td>73</td>\n",
       "    </tr>\n",
       "    <tr>\n",
       "      <th>3</th>\n",
       "      <td>[150, 66]</td>\n",
       "      <td>1</td>\n",
       "      <td>150</td>\n",
       "      <td>66</td>\n",
       "    </tr>\n",
       "    <tr>\n",
       "      <th>4</th>\n",
       "      <td>[190, 68]</td>\n",
       "      <td>1</td>\n",
       "      <td>190</td>\n",
       "      <td>68</td>\n",
       "    </tr>\n",
       "    <tr>\n",
       "      <th>5</th>\n",
       "      <td>[210, 76]</td>\n",
       "      <td>1</td>\n",
       "      <td>210</td>\n",
       "      <td>76</td>\n",
       "    </tr>\n",
       "    <tr>\n",
       "      <th>6</th>\n",
       "      <td>[170, 75]</td>\n",
       "      <td>1</td>\n",
       "      <td>170</td>\n",
       "      <td>75</td>\n",
       "    </tr>\n",
       "    <tr>\n",
       "      <th>7</th>\n",
       "      <td>[140, 62]</td>\n",
       "      <td>2</td>\n",
       "      <td>140</td>\n",
       "      <td>62</td>\n",
       "    </tr>\n",
       "    <tr>\n",
       "      <th>8</th>\n",
       "      <td>[150, 66]</td>\n",
       "      <td>2</td>\n",
       "      <td>150</td>\n",
       "      <td>66</td>\n",
       "    </tr>\n",
       "    <tr>\n",
       "      <th>9</th>\n",
       "      <td>[130, 66]</td>\n",
       "      <td>2</td>\n",
       "      <td>130</td>\n",
       "      <td>66</td>\n",
       "    </tr>\n",
       "    <tr>\n",
       "      <th>10</th>\n",
       "      <td>[130, 66]</td>\n",
       "      <td>2</td>\n",
       "      <td>130</td>\n",
       "      <td>66</td>\n",
       "    </tr>\n",
       "    <tr>\n",
       "      <th>11</th>\n",
       "      <td>[160, 70]</td>\n",
       "      <td>1</td>\n",
       "      <td>160</td>\n",
       "      <td>70</td>\n",
       "    </tr>\n",
       "    <tr>\n",
       "      <th>12</th>\n",
       "      <td>[100, 58]</td>\n",
       "      <td>2</td>\n",
       "      <td>100</td>\n",
       "      <td>58</td>\n",
       "    </tr>\n",
       "    <tr>\n",
       "      <th>13</th>\n",
       "      <td>[150, 64]</td>\n",
       "      <td>2</td>\n",
       "      <td>150</td>\n",
       "      <td>64</td>\n",
       "    </tr>\n",
       "    <tr>\n",
       "      <th>14</th>\n",
       "      <td>[120, 66]</td>\n",
       "      <td>2</td>\n",
       "      <td>120</td>\n",
       "      <td>66</td>\n",
       "    </tr>\n",
       "  </tbody>\n",
       "</table>\n",
       "</div>"
      ],
      "text/plain": [
       "      feature  classno    v   h\n",
       "0   [170, 68]        1  170  68\n",
       "1   [180, 71]        1  180  71\n",
       "2   [190, 73]        1  190  73\n",
       "3   [150, 66]        1  150  66\n",
       "4   [190, 68]        1  190  68\n",
       "5   [210, 76]        1  210  76\n",
       "6   [170, 75]        1  170  75\n",
       "7   [140, 62]        2  140  62\n",
       "8   [150, 66]        2  150  66\n",
       "9   [130, 66]        2  130  66\n",
       "10  [130, 66]        2  130  66\n",
       "11  [160, 70]        1  160  70\n",
       "12  [100, 58]        2  100  58\n",
       "13  [150, 64]        2  150  64\n",
       "14  [120, 66]        2  120  66"
      ]
     },
     "execution_count": 18,
     "metadata": {},
     "output_type": "execute_result"
    }
   ],
   "source": [
    "pattern_df = pd.DataFrame(pattern)\n",
    "pattern_df['v'] = [x[0] for x in pattern_df['feature']]\n",
    "pattern_df['h'] = [x[1] for x in pattern_df['feature']]\n",
    "pattern_df"
   ]
  },
  {
   "cell_type": "code",
   "execution_count": 19,
   "metadata": {},
   "outputs": [
    {
     "data": {
      "image/png": "[encoded data removed]",
      "text/plain": [
       "<Figure size 432x288 with 2 Axes>"
      ]
     },
     "metadata": {},
     "output_type": "display_data"
    }
   ],
   "source": [
    "import matplotlib.pyplot as plt\n",
    "plt.rc_context({'axes.edgecolor':'orange', 'xtick.color':'green', 'ytick.color':'green', 'figure.facecolor':'white'})\n",
    "plt.subplot(2,  1,  1) \n",
    "plt.scatter([x[0] for x in sample],[x[1] for x in sample], color = 'blue')\n",
    "plt.subplot(2,  1,  2)\n",
    "plt.scatter(pattern_df[pattern_df.classno == 0]['v'],pattern_df[pattern_df.classno == 0]['h'], color = 'blue')\n",
    "plt.scatter(pattern_df[pattern_df.classno == 1]['v'],pattern_df[pattern_df.classno == 1]['h'], color = 'red')\n",
    "plt.scatter(pattern_df[pattern_df.classno == 2]['v'],pattern_df[pattern_df.classno == 2]['h'], color = 'grey')\n",
    "plt.show()"
   ]
  },
  {
   "cell_type": "markdown",
   "metadata": {},
   "source": [
    "### 1.3 KNN"
   ]
  },
  {
   "cell_type": "markdown",
   "metadata": {},
   "source": [
    "1）计算测试数据与各个训练数据之间的距离；\n",
    "\n",
    "2）按照距离的递增关系进行排序；\n",
    "\n",
    "3）选取距离最小的K个点；\n",
    "\n",
    "4）确定前K个点所在类别的出现频率；\n",
    "\n",
    "5）返回前K个点中出现频率最高的类别作为测试数据的预测分类。"
   ]
  },
  {
   "cell_type": "code",
   "execution_count": 20,
   "metadata": {},
   "outputs": [],
   "source": [
    "import operator\n",
    "predict_label=[]\n",
    "def createDataSet():\n",
    "    group = np.array(np.random.normal(3,5,200)).reshape(100,2)\n",
    "    labels = np.where(np.array(np.random.randint(0,2,100)),'A','B')\n",
    "    return group,labels\n",
    "\n",
    "def distance(X1, X2,types = 'Euclidean'):\n",
    "        # 欧式距离 Euclidean Distance\n",
    "    if types == 'Euclidean':\n",
    "        X1 = np.array(X1)\n",
    "        X2 = np.array(X2)\n",
    "        distance = np.sqrt(np.dot( (X1 - X2).T, (X1 - X2) ))\n",
    "    return distance\n",
    "def getClosest(train_set, train_label, x, topK):\n",
    "    '''\n",
    "    train_set : 训练样本数据\n",
    "    train_label : 训练集标签\n",
    "    x : 当前训练样本\n",
    "    topK : 选择topK个邻近点作为参考\n",
    "    '''\n",
    "    distList = [0] * len(train_label)\n",
    "    for i in range(len(train_set)):\n",
    "        x1 = train_set[i]\n",
    "        curDist = distance(x1,x)\n",
    "        distList[i] = curDist\n",
    "    Dis = np.argsort(-np.array(distList))\n",
    "    classCount = {}\n",
    "    for i in range(topK):\n",
    "        voteclass = train_label[Dis[i]]\n",
    "        classCount[voteclass] = classCount.get(voteclass,0)+1\n",
    "    return sorted(classCount.items(),key=operator.itemgetter(1),reverse=True)[0][0]\n",
    "# 关于 operator  https://docs.python.org/zh-cn/3/library/operator.html\n",
    "def model_test(train_Data, train_label, test_Data, topK):\n",
    "    errorCnt = 0\n",
    "    for i in range(len(test_Data)):\n",
    "        print('test %d:%d'%(i,len(train_Data)))\n",
    "        x = test_Data[i]\n",
    "        y = getClosest(train_Data, train_label, x, topK)\n",
    "        predict_label.append(y)\n",
    "    #    if y != test_label[i]:\n",
    "    #        errorCnt += 1\n",
    "    #return 1 - (errorCnt / len(test_Data))"
   ]
  },
  {
   "cell_type": "code",
   "execution_count": 21,
   "metadata": {},
   "outputs": [
    {
     "name": "stdout",
     "output_type": "stream",
     "text": [
      "test 0:100\n",
      "test 1:100\n",
      "test 2:100\n",
      "test 3:100\n",
      "test 4:100\n",
      "test 5:100\n",
      "test 6:100\n",
      "test 7:100\n",
      "test 8:100\n",
      "test 9:100\n",
      "['A', 'A', 'A', 'A', 'A', 'A', 'A', 'A', 'A', 'A']\n"
     ]
    }
   ],
   "source": [
    "predict_label=[]\n",
    "train_Data,train_label = createDataSet()\n",
    "test_Data =np.random.normal(5,3,(10,2))\n",
    "model_test(train_Data, train_label, test_Data, 5)\n",
    "print(predict_label)"
   ]
  },
  {
   "cell_type": "code",
   "execution_count": 22,
   "metadata": {},
   "outputs": [
    {
     "data": {
      "image/png": "[encoded data removed]",
      "text/plain": [
       "<Figure size 432x288 with 1 Axes>"
      ]
     },
     "metadata": {},
     "output_type": "display_data"
    }
   ],
   "source": [
    "train_Datak = np.array(train_Data).T\n",
    "test_Datak = np.array(test_Data).T\n",
    "df3 = pd.DataFrame({\n",
    "        'x':train_Datak[0],\n",
    "        'y':train_Datak[1],\n",
    "        'label':train_label\n",
    "})\n",
    "df4 = pd.DataFrame({\n",
    "    'x': test_Datak[0],\n",
    "    'y': test_Datak[1],\n",
    "    'label':predict_label\n",
    "})\n",
    "#训练集\n",
    "plt.scatter(df3[df3.label == 'A']['x'],df3[df3.label == 'A']['y'], color = 'blue')\n",
    "plt.scatter(df3[df3.label == 'B']['x'],df3[df3.label == 'B']['y'], color = 'red')\n",
    "# 测试集\n",
    "plt.scatter(df4[df4.label == 'A']['x'],df4[df4.label == 'A']['y'], color = 'green')\n",
    "plt.scatter(df4[df4.label == 'B']['x'],df4[df4.label == 'B']['y'], color = 'grey')\n",
    "plt.show()"
   ]
  },
  {
   "cell_type": "code",
   "execution_count": null,
   "metadata": {},
   "outputs": [],
   "source": []
  },
  {
   "cell_type": "code",
   "execution_count": null,
   "metadata": {},
   "outputs": [],
   "source": []
  }
 ],
 "metadata": {
  "kernelspec": {
   "display_name": "Python 3",
   "language": "python",
   "name": "python3"
  },
  "language_info": {
   "codemirror_mode": {
    "name": "ipython",
    "version": 3
   },
   "file_extension": ".py",
   "mimetype": "text/x-python",
   "name": "python",
   "nbconvert_exporter": "python",
   "pygments_lexer": "ipython3",
   "version": "3.7.6"
  }
 },
 "nbformat": 4,
 "nbformat_minor": 4
}
