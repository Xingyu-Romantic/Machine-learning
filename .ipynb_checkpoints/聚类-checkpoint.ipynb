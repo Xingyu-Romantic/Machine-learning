{
 "cells": [
  {
   "cell_type": "markdown",
   "metadata": {},
   "source": [
    "# 聚类算法\n",
    "> <p> 博客地址:  https://xingyublog.netlify.app/ </p>\n",
    "> <p>模式识别 课程 学习代码 </p>\n",
    "> <p>Email：a940858626@qq.com</p>"
   ]
  },
  {
   "cell_type": "markdown",
   "metadata": {},
   "source": [
    "##  1.1 距离函数"
   ]
  },
  {
   "cell_type": "code",
   "execution_count": 1,
   "metadata": {},
   "outputs": [],
   "source": [
    "import numpy as np"
   ]
  },
  {
   "cell_type": "code",
   "execution_count": 2,
   "metadata": {},
   "outputs": [],
   "source": [
    "def distance(X1, X2, types = 'Euclidean'):\n",
    "    # 欧式距离 Euclidean Distance\n",
    "    if types == 'Euclidean':\n",
    "        X1 = np.array(X1)\n",
    "        X2 = np.array(X2)\n",
    "        distance = np.sqrt(np.dot( (X1 - X2).T, (X1 - X2) ))\n",
    "    return distance "
   ]
  },
  {
   "cell_type": "code",
   "execution_count": 9,
   "metadata": {},
   "outputs": [
    {
     "name": "stdout",
     "output_type": "stream",
     "text": [
      "1.4142135623730951\n"
     ]
    }
   ],
   "source": [
    "# 测试 distance\n",
    "print(distance(np.array([1,1]), np.array([2,2])))"
   ]
  },
  {
   "cell_type": "markdown",
   "metadata": {},
   "source": [
    "## 1.2 基于距离阈值的聚类算法\n",
    "### 1.2.1 近邻聚类算法"
   ]
  },
  {
   "cell_type": "markdown",
   "metadata": {},
   "source": [
    "#### 导入数据"
   ]
  },
  {
   "cell_type": "code",
   "execution_count": 3,
   "metadata": {},
   "outputs": [
    {
     "data": {
      "text/plain": [
       "((15, 2), (10, 2), (5, 2))"
      ]
     },
     "execution_count": 3,
     "metadata": {},
     "output_type": "execute_result"
    }
   ],
   "source": [
    "\n",
    "M = np.array([[170, 180, 190, 150, 190, 210, 170, 140, 150, 130], \n",
    "              [68, 71, 73, 66, 68, 76, 75, 62, 66, 66]])\n",
    "F = np.array([[130, 160, 100, 150, 120],\n",
    "              [66, 70, 58, 64, 66]])\n",
    "data = np.vstack((M.T, F.T))\n",
    "data.shape, M.T.shape, F.T.shape"
   ]
  },
  {
   "cell_type": "markdown",
   "metadata": {},
   "source": [
    "#### 绘制数据散点图"
   ]
  },
  {
   "cell_type": "code",
   "execution_count": 4,
   "metadata": {},
   "outputs": [
    {
     "data": {
      "image/png": "[encoded data removed]",
      "text/plain": [
       "<Figure size 432x288 with 1 Axes>"
      ]
     },
     "metadata": {},
     "output_type": "display_data"
    }
   ],
   "source": [
    "import matplotlib.pyplot as plt\n",
    "plt.rc_context({'axes.edgecolor':'orange', 'xtick.color':'green', 'ytick.color':'green', 'figure.facecolor':'white'})\n",
    "plt.scatter(M[0], M[1], color = 'blue', label= 'Male')\n",
    "plt.scatter(F[0], F[1], color = 'RED', label= 'Female')\n",
    "plt.legend([\"Male\",\"Female\"])\n",
    "plt.xlabel('Heigh', color = 'white')\n",
    "plt.ylabel('Weight', color = 'white')\n",
    "plt.show()"
   ]
  },
  {
   "cell_type": "markdown",
   "metadata": {},
   "source": [
    "#### 初始化聚类变量"
   ]
  },
  {
   "cell_type": "code",
   "execution_count": 79,
   "metadata": {},
   "outputs": [],
   "source": [
    "# m 样本数量\n",
    "m = data.shape[0]\n",
    "# 设置工作结构数组 变量 pattern\n",
    "'''\n",
    "pattern = {}\n",
    "pattern['feature'] = np.array(data)\n",
    "pattern['classno'] = np.zeros((m,1))\n",
    "'''\n",
    "pattern = [{}] * m\n",
    "for i in range(0, m):\n",
    "    tmp = {'feature': np.array(data[i,:]),\n",
    "           'classno': 0}\n",
    "    pattern[i] = tmp"
   ]
  },
  {
   "cell_type": "code",
   "execution_count": 28,
   "metadata": {},
   "outputs": [],
   "source": [
    "#随机选取一个样本号\n",
    "import random\n",
    "s = np.random.randint(0, m)\n",
    "# 设置聚类中心结构数组 变量 Z\n",
    "Z = [{}] * m \n",
    "\n",
    "Z[0] = ({'feature': pattern[s]['feature'], # 将随机选取的样本作为第一个聚类中心代表\n",
    "        'id': 1,     #中心代表的类标号\n",
    "        'patternNum': 1})  #类中样本个数\n",
    "pattern[s]['classno'] =  1 # 模式分类标号\n",
    "classNum = 0     #类数初值\n",
    "# 阈值\n",
    "T = 40\n",
    "for i in range(0, m):\n",
    "    mindis = np.inf\n",
    "    index = 1   #记录最小距离的类号\n",
    "    for j in range(0, classNum):\n",
    "        dis = distance(pattern[i]['feature'], Z[j]['feature'])\n",
    "        if dis < mindis:\n",
    "            mindis = dis\n",
    "            index = j\n",
    "    if mindis < T:   #不需要新建类\n",
    "        pattern[i]['classno'] = Z[index]['id']\n",
    "        n = Z[index]['patternNum']\n",
    "        Z[index]['patternNum'] = n + 1\n",
    "        tempmean = Z[index]['feature']\n",
    "        Z[index]['feature'] = (n * tempmean + pattern[i]['feature']) / (n + 1) # 计算类新增均值向量\n",
    "    else:\n",
    "        classNum += 1\n",
    "        pattern[i]['classno'] = classNum\n",
    "        Z[classNum-1]['feature'] = pattern[i]['feature']\n",
    "        Z[classNum-1]['id'] = classNum\n",
    "        Z[classNum-1]['patternNum'] = 1\n",
    "    \n"
   ]
  },
  {
   "cell_type": "code",
   "execution_count": 60,
   "metadata": {},
   "outputs": [
    {
     "data": {
      "text/html": [
       "<div>\n",
       "<style scoped>\n",
       "    .dataframe tbody tr th:only-of-type {\n",
       "        vertical-align: middle;\n",
       "    }\n",
       "\n",
       "    .dataframe tbody tr th {\n",
       "        vertical-align: top;\n",
       "    }\n",
       "\n",
       "    .dataframe thead th {\n",
       "        text-align: right;\n",
       "    }\n",
       "</style>\n",
       "<table border=\"1\" class=\"dataframe\">\n",
       "  <thead>\n",
       "    <tr style=\"text-align: right;\">\n",
       "      <th></th>\n",
       "      <th>feature</th>\n",
       "      <th>classno</th>\n",
       "      <th>heigh</th>\n",
       "      <th>weight</th>\n",
       "    </tr>\n",
       "  </thead>\n",
       "  <tbody>\n",
       "    <tr>\n",
       "      <th>0</th>\n",
       "      <td>[170, 68]</td>\n",
       "      <td>1</td>\n",
       "      <td>170</td>\n",
       "      <td>68</td>\n",
       "    </tr>\n",
       "    <tr>\n",
       "      <th>1</th>\n",
       "      <td>[180, 71]</td>\n",
       "      <td>1</td>\n",
       "      <td>180</td>\n",
       "      <td>71</td>\n",
       "    </tr>\n",
       "    <tr>\n",
       "      <th>2</th>\n",
       "      <td>[190, 73]</td>\n",
       "      <td>1</td>\n",
       "      <td>190</td>\n",
       "      <td>73</td>\n",
       "    </tr>\n",
       "    <tr>\n",
       "      <th>3</th>\n",
       "      <td>[150, 66]</td>\n",
       "      <td>1</td>\n",
       "      <td>150</td>\n",
       "      <td>66</td>\n",
       "    </tr>\n",
       "    <tr>\n",
       "      <th>4</th>\n",
       "      <td>[190, 68]</td>\n",
       "      <td>1</td>\n",
       "      <td>190</td>\n",
       "      <td>68</td>\n",
       "    </tr>\n",
       "  </tbody>\n",
       "</table>\n",
       "</div>"
      ],
      "text/plain": [
       "     feature  classno  heigh  weight\n",
       "0  [170, 68]        1    170      68\n",
       "1  [180, 71]        1    180      71\n",
       "2  [190, 73]        1    190      73\n",
       "3  [150, 66]        1    150      66\n",
       "4  [190, 68]        1    190      68"
      ]
     },
     "execution_count": 60,
     "metadata": {},
     "output_type": "execute_result"
    }
   ],
   "source": [
    "# 将得到数据转化成pandas 然后绘图\n",
    "import pandas as pd\n",
    "df = pd.DataFrame(pattern)\n",
    "df['heigh'] = [x[0] for x in df['feature']]\n",
    "df['weight'] = [x[1] for x in df['feature']]\n",
    "df.head()"
   ]
  },
  {
   "cell_type": "code",
   "execution_count": 76,
   "metadata": {},
   "outputs": [
    {
     "data": {
      "text/plain": [
       "'\\nimport seaborn as sns\\n\\ng = sns.relplot(\\n    data=df,\\n    x=\\'heigh\\', y=\\'weight\\',\\n    hue=\"classno\",\\n    sizes=(10, 200),\\n)\\ng.set(xlim=(df[\\'heigh\\'].min(), df[\\'heigh\\'].max()))\\ng.add_legend()\\n'"
      ]
     },
     "execution_count": 76,
     "metadata": {},
     "output_type": "execute_result"
    }
   ],
   "source": [
    "\n",
    "\n",
    "'''\n",
    "import seaborn as sns\n",
    "\n",
    "g = sns.relplot(\n",
    "    data=df,\n",
    "    x='heigh', y='weight',\n",
    "    hue=\"classno\",\n",
    "    sizes=(10, 200),\n",
    ")\n",
    "g.set(xlim=(df['heigh'].min(), df['heigh'].max()))\n",
    "g.add_legend()\n",
    "'''"
   ]
  },
  {
   "cell_type": "markdown",
   "metadata": {},
   "source": [
    "#### 绘制原始图像和聚类后图像"
   ]
  },
  {
   "cell_type": "code",
   "execution_count": 78,
   "metadata": {},
   "outputs": [
    {
     "data": {
      "image/png": "[encoded data removed]",
      "text/plain": [
       "<Figure size 432x288 with 2 Axes>"
      ]
     },
     "metadata": {},
     "output_type": "display_data"
    }
   ],
   "source": [
    "plt.rc_context({'axes.edgecolor':'orange', 'xtick.color':'green', 'ytick.color':'green', 'figure.facecolor':'white'})\n",
    "plt.subplot(2,  1,  1)  \n",
    "plt.scatter(M[0], M[1], color = 'blue', label= 'Male')\n",
    "plt.scatter(F[0], F[1], color = 'RED', label= 'Female')\n",
    "plt.legend([\"Male\",\"Female\"])\n",
    "plt.xlabel('Heigh', color = 'white')\n",
    "plt.ylabel('Weight', color = 'white')\n",
    "plt.title('Original Data')\n",
    "plt.tight_layout() #设置默认的间距\n",
    "plt.subplot(2,  1,  2)  \n",
    "plt.scatter(df[df['classno']==1]['heigh'], df[df['classno']==1]['weight'], color = 'blue', label = 'Male')\n",
    "plt.scatter(df[df['classno']==2]['heigh'], df[df['classno']==2]['weight'], color = 'red', label = 'Female')\n",
    "plt.legend([\"Male\",\"Female\"])\n",
    "plt.xlabel('Heigh', color = 'white')\n",
    "plt.ylabel('Weight', color = 'white')\n",
    "plt.title('Cluster data')\n",
    "plt.show()"
   ]
  },
  {
   "cell_type": "code",
   "execution_count": 173,
   "metadata": {},
   "outputs": [],
   "source": [
    "# 最终结构\n",
    "\n",
    "class Nearest_neighbor(object):\n",
    "    def __init__(self, X, types = 'Euclidean', T = 2.5):\n",
    "        self.X = np.array(X)\n",
    "        self.m = self.X.shape[0]\n",
    "        self.dist_type = types\n",
    "        self.pattern = [{}] * self.m\n",
    "        self.T = T\n",
    "        for i in range(0, self.m):\n",
    "            tmp = {'feature': np.array(self.X[i,:]),\n",
    "                   'classno': 0}\n",
    "            self.pattern[i] = tmp\n",
    "        self.Z = [None] * self.m\n",
    "    def distance(self, X1, X2):\n",
    "        # 欧式距离 Euclidean Distance\n",
    "        if self.dist_type == 'Euclidean':\n",
    "            X1 = np.array(X1)\n",
    "            X2 = np.array(X2)\n",
    "            distance = np.sqrt(np.dot( (X1 - X2).T, (X1 - X2) ))\n",
    "        return distance \n",
    "    def cluster(self):\n",
    "        s = np.random.randint(0, self.m)\n",
    "        # 设置聚类中心结构数组 变量 Z\n",
    "        self.Z[0] = {'feature': self.pattern[s]['feature'], # 将随机选取的样本作为第一个聚类中心代表\n",
    "                'id': 1,     #中心代表的类标号\n",
    "                'patternNum': 1} #类中样本个数\n",
    "        self.pattern[s]['classno'] =  1 # 模式分类标号\n",
    "        classNum = 0     #类数初值\n",
    "        # 阈值\n",
    "        for i in range(0, self.m):\n",
    "            mindis = np.inf\n",
    "            index = 1   #记录最小距离的类号\n",
    "            for j in range(0, classNum):\n",
    "                dis = self.distance(self.pattern[i]['feature'], self.Z[j]['feature'])\n",
    "                if dis < mindis:\n",
    "                    mindis = dis\n",
    "                    index = j\n",
    "            if mindis < self.T:   #不需要新建类\n",
    "                self.pattern[i]['classno'] = self.Z[index]['id']\n",
    "                n = self.Z[index]['patternNum']\n",
    "                self.Z[index]['patternNum'] = n + 1\n",
    "                tempmean = self.Z[index]['feature']\n",
    "                self.Z[index]['feature'] = (n * tempmean + self.pattern[i]['feature']) / (n + 1) # 计算类新增均值向量\n",
    "            else:\n",
    "                classNum += 1\n",
    "                self.pattern[i]['classno'] = classNum\n",
    "                temp = {'feature':self.pattern[i]['feature'], 'id': classNum, 'patternNum': 1}\n",
    "                self.Z[classNum-1] = temp\n",
    "        cluster_result={'pattern': self.pattern,\n",
    "                        'Z' : self.Z}\n",
    "        return cluster_result"
   ]
  },
  {
   "cell_type": "markdown",
   "metadata": {},
   "source": [
    "#### 测试聚类算法"
   ]
  },
  {
   "cell_type": "code",
   "execution_count": 174,
   "metadata": {},
   "outputs": [
    {
     "data": {
      "text/plain": [
       "(8, 2)"
      ]
     },
     "execution_count": 174,
     "metadata": {},
     "output_type": "execute_result"
    }
   ],
   "source": [
    "sample = np.array([[1,3,3,2,5,4,6,5],\n",
    "          [2,7,2,1,3,7,4,5]])\n",
    "sample = sample.T\n",
    "sample.shape"
   ]
  },
  {
   "cell_type": "code",
   "execution_count": 182,
   "metadata": {},
   "outputs": [
    {
     "name": "stdout",
     "output_type": "stream",
     "text": [
      "{'feature': array([2.        , 1.66666667]), 'id': 1, 'patternNum': 3}\n",
      "\n",
      "\n",
      "{'feature': array([3.5, 7. ]), 'id': 2, 'patternNum': 2}\n",
      "\n",
      "\n",
      "{'feature': array([5.33333333, 4.        ]), 'id': 3, 'patternNum': 3}\n",
      "\n",
      "\n"
     ]
    }
   ],
   "source": [
    "\n",
    "test = Nearest_neighbor(sample, T=2.5)\n",
    "result = test.cluster()\n",
    "for i in result['Z']:\n",
    "    if(i):\n",
    "        print(i)\n",
    "        print('\\n')"
   ]
  }
 ],
 "metadata": {
  "kernelspec": {
   "display_name": "Python 3",
   "language": "python",
   "name": "python3"
  },
  "language_info": {
   "codemirror_mode": {
    "name": "ipython",
    "version": 3
   },
   "file_extension": ".py",
   "mimetype": "text/x-python",
   "name": "python",
   "nbconvert_exporter": "python",
   "pygments_lexer": "ipython3",
   "version": "3.7.6"
  }
 },
 "nbformat": 4,
 "nbformat_minor": 4
}
