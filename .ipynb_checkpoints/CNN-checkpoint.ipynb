{
 "cells": [
  {
   "cell_type": "code",
   "execution_count": 1,
   "metadata": {},
   "outputs": [],
   "source": [
    "# 导入需要的包\n",
    "import numpy as np\n",
    "import matplotlib.pyplot as plt"
   ]
  },
  {
   "cell_type": "code",
   "execution_count": 18,
   "metadata": {},
   "outputs": [],
   "source": [
    "# 在输入矩阵的边缘使用零值进行填充，这样我们就可以对输入图像矩阵的边缘进行滤波。\n",
    "def zero_pad(x, pad):\n",
    "    X_pad = np.pad(x,((0,0),(pad,pad),(pad,pad),(0,0)), 'constant', constant_values=(0,0))\n",
    "    return X_pad"
   ]
  },
  {
   "cell_type": "code",
   "execution_count": 24,
   "metadata": {},
   "outputs": [
    {
     "data": {
      "text/plain": [
       "<matplotlib.image.AxesImage at 0x7fac6bbd9f50>"
      ]
     },
     "execution_count": 24,
     "metadata": {},
     "output_type": "execute_result"
    },
    {
     "data": {
      "image/png": "[encoded data removed]",
      "text/plain": [
       "<Figure size 432x288 with 2 Axes>"
      ]
     },
     "metadata": {
      "needs_background": "light"
     },
     "output_type": "display_data"
    }
   ],
   "source": [
    "x = np.random.randn(4,3,3,2)\n",
    "x_pad = zero_pad(x, 1)\n",
    "fig, axarr = plt.subplots(1, 2)\n",
    "axarr[0].set_title('x')\n",
    "axarr[0].imshow(x[0,:,:,0])\n",
    "axarr[1].set_title('x_pad')\n",
    "axarr[1].imshow(x_pad[0,:,:,0])\n"
   ]
  },
  {
   "cell_type": "markdown",
   "metadata": {},
   "source": [
    "## conv layer forward"
   ]
  },
  {
   "cell_type": "code",
   "execution_count": 26,
   "metadata": {},
   "outputs": [],
   "source": [
    "# 实现 单步卷积\n",
    "# 与滤波器对应相乘\n",
    "def conv_single_step(a_slice_prev, W, b):\n",
    "    a_slice = np.multiply(a_slice_prev, W)\n",
    "    a_slice = np.sum(a_slice)\n",
    "    return a_slice + b"
   ]
  },
  {
   "cell_type": "code",
   "execution_count": 29,
   "metadata": {},
   "outputs": [],
   "source": [
    "# 实现卷积操作\n",
    "def conv_farward(A_prev, W, b, hyparameters):\n",
    "    '''\n",
    "    A_prev: 前一层 output    (m, n_H_prev, n_W_prev, n_C_prev)\n",
    "    W: 权重  (f, f, n_C_prev, n_C)\n",
    "    b: 偏置单元 (1, 1, 1, n_C)\n",
    "    hyparameters: python dict    包含  stride 和 pad\n",
    "    '''\n",
    "    m, n_H_prev, n_W_prev, n_C_prev = A_prev.shape\n",
    "    f, f, n_C_prev, n_C = W.shape\n",
    "    stride = hyparameters['stride']\n",
    "    pad = hyparameters['pad']\n",
    "    \n",
    "    n_H = int((n_H_prev + 2 * pad - f) / stride) + 1\n",
    "    n_W = int((n_W_prev + 2 * pad - f) / stride) + 1\n",
    "    \n",
    "    # 初始化\n",
    "    Z = np.zeros((m, n_H, n_W, n_C))\n",
    "    # 进行 0 填充\n",
    "    A_prev_pad = zero_pad(A_prev, pad)\n",
    "    # start conv operation\n",
    "    for  i in range(m):\n",
    "        a_prev_pad = A_prev[i]\n",
    "        for  h in range(n_H_):\n",
    "            for w in range(n_W):\n",
    "                for c in range(n_C):\n",
    "                    start_h = h * stride\n",
    "                    start_w = w * stride\n",
    "                    end_h = start_h + f\n",
    "                    end_w = start_w + f\n",
    "                    a_slice_prev = a_prev_pad[start_h:end_h, start_w:end_w, :]\n",
    "                    Z[i, h, w, c] = conv_single_step(a_slice_prev, W, b)\n",
    "    # 确认卷积后尺寸\n",
    "    assert(Z.shape == (m, n_H, n_W, n_C))\n",
    "    cache = (A_prev, W, b, hparameters)\n",
    "    return Z, cache "
   ]
  },
  {
   "cell_type": "markdown",
   "metadata": {},
   "source": [
    "## Pool layer forward\n"
   ]
  },
  {
   "cell_type": "code",
   "execution_count": 31,
   "metadata": {},
   "outputs": [],
   "source": [
    "def pool_farward(A_prev, hyparameters, mode = 'max'):\n",
    "    m, n_H_prev, n_W_prev, n_C_prev = A_prev.shape\n",
    "    \n",
    "    f = hyparameters['f']\n",
    "    stride = hyparameters['stride']\n",
    "    \n",
    "    n_H = int((n_H_prev - f) / stride) + 1\n",
    "    n_W = int((n_W_prev - f) / stride) + 1\n",
    "    n_C = n_C_prev\n",
    "    \n",
    "    A = np.zeros((m, n_H, n_W, n_C_prev))\n",
    "    \n",
    "    for i in range(m):\n",
    "        for h in range(n_H):\n",
    "            for w in range(n_W):\n",
    "                for c in range(n_C):\n",
    "                    start_h = h * stride\n",
    "                    start_w = w * stride\n",
    "                    end_h = start_h + f\n",
    "                    end_w = start_w + f\n",
    "                    a_slice_prev = A_prev[i, start_h:end_h, start_w:end_w, c]\n",
    "                    if mode == \"max\":\n",
    "                        A[i, h, w, c] = np.max(a_slice_prev)\n",
    "                    elif mode == \"average\":\n",
    "                        A[i, h, w, c] = np.average(a_slice_prev)\n",
    "    cache = (A_prev, hyparameters)\n",
    "    \n",
    "    assert(A.shape == (m, n_H, n_W, n_C_prev))\n",
    "    return A, chche\n",
    "                "
   ]
  },
  {
   "cell_type": "markdown",
   "metadata": {},
   "source": [
    "## conv layer back"
   ]
  },
  {
   "cell_type": "code",
   "execution_count": 2,
   "metadata": {},
   "outputs": [],
   "source": [
    "def conv_backward(dZ, cache):\n",
    "    \"\"\"\n",
    "    dZ: Z代价的梯度   (m, n_H, n_W, n_C)\n",
    "    cache: (A_prev, W, b, hparameters)  \n",
    "    \"\"\"\n",
    "    (A_prev, W, b, hparameters) = cache\n",
    "    (m, n_H_prev, n_W_prev, n_C_prev) = A_prev.shape\n",
    "    (f, f, n_C_prev, n_C) = W.shape\n",
    "    \n",
    "    stride = hparameters['stride']\n",
    "    pad = hparameters['pad']\n",
    "    (m, n_H, n_W, n_C) = dZ.shape\n",
    "    \n",
    "    # 初始化dA dW db\n",
    "    dA_prev = np.zeros((m, n_H_prev, n_W_prev, n_C_prev))\n",
    "    dW = np.zeros((f, f, n_C_prev, n_C))\n",
    "    db = np.zeros((1,1,1,n_C))\n",
    "    \n",
    "    A_prev_pad = zero_pad(A_prev, pad)\n",
    "    dA_prev_pad = zero_pad(dA_prev, pad)\n",
    "\n",
    "    for i in range(m):\n",
    "        for h in range(n_H):\n",
    "            for w in range(n_W):\n",
    "                for c in range(n_C):\n",
    "                    start_h = h * stride\n",
    "                    start_w = w * stride\n",
    "                    end_h = start_h + f\n",
    "                    end_w = start_w + f\n",
    "                    a_slice_prev = a_prev_pad[start_h:end_h, start_w:end_h, :]\n",
    "                    da_prev_pad[start_h:end_h,start_w:end_w,:] += W[:,:,:,c] + dZ[i, h, w, c]\n",
    "                    dW[:,:,:,c] += a_slice_prev * dZ[i, h, w, c]\n",
    "                    db[:,:,:,c] += dZ[i, h, w, c]\n",
    "        dA_prev[i, :, :, :] = dA_prev_pad[i, pad:-pad, pad:-pad, :]\n",
    "    assert(dA_prev.shape == (m, n_H_prev, n_W_prev, n_C_prev))\n",
    "    return dA_prev, dW, db"
   ]
  },
  {
   "cell_type": "markdown",
   "metadata": {},
   "source": [
    "## max pool back "
   ]
  },
  {
   "cell_type": "code",
   "execution_count": 3,
   "metadata": {},
   "outputs": [],
   "source": [
    "def create_mask_from_window(x):\n",
    "    mask = (x == np.max(x))\n",
    "    return mask"
   ]
  },
  {
   "cell_type": "markdown",
   "metadata": {},
   "source": [
    "## average pool back"
   ]
  },
  {
   "cell_type": "code",
   "execution_count": 4,
   "metadata": {},
   "outputs": [],
   "source": [
    " def distribute_value(dz, shape):\n",
    "    (n_H, n_W) = shape\n",
    "    average = dz / (n_H * n_W)\n",
    "    a = np.ones(shape) * average\n",
    "    return a"
   ]
  },
  {
   "cell_type": "markdown",
   "metadata": {},
   "source": [
    "## pool back"
   ]
  },
  {
   "cell_type": "code",
   "execution_count": 6,
   "metadata": {},
   "outputs": [],
   "source": [
    " def pool_backward(dA, cache, mode = \"max\"):\n",
    "    (A_prev, hparameters) = cache\n",
    "    stride = hparameters['stride']\n",
    "    f = hparameters['f']\n",
    "    m, n_H_prev, n_W_prev, n_C_prev = A_prev.shape\n",
    "    m, n_H, n_W, n_C = dA.shape\n",
    "\n",
    "    dA_prev = np.zeros_like(A_prev)\n",
    "    for i in range(m):\n",
    "        for h in range(n_H):\n",
    "            for w in range(n_W):\n",
    "                for c in range(n_C):\n",
    "                    start_h = h * stride\n",
    "                    end_h = start_h + f\n",
    "                    start_w = w * stride\n",
    "                    end_w = start_w + f\n",
    "                    if mode == \"max\":\n",
    "                        a_prev_slice = a_prev[vert_start:vert_end, horiz_start:horiz_end, c]\n",
    "                        mask = create_mask_from_window(a_prev_slice)\n",
    "                        dA_prev[i, vert_start: vert_end, horiz_start:horiz_end, c] += mask * dA[i, vert_start, horiz_start, c]\n",
    "                    elif mode == \"average\":\n",
    "                        da = dA[i, vert_start, horiz_start, c]\n",
    "                        shape = (f, f)\n",
    "                        dA_prev[i, vert_start: vert_end, horiz_start:horiz_end, c] += distribute_value(da, shape)\n",
    "    assert(dA_prev.shape == A_prev.shape)\n",
    "    return dA_prev\n",
    "\n"
   ]
  },
  {
   "cell_type": "code",
   "execution_count": null,
   "metadata": {},
   "outputs": [],
   "source": []
  }
 ],
 "metadata": {
  "kernelspec": {
   "display_name": "Python 3",
   "language": "python",
   "name": "python3"
  },
  "language_info": {
   "codemirror_mode": {
    "name": "ipython",
    "version": 3
   },
   "file_extension": ".py",
   "mimetype": "text/x-python",
   "name": "python",
   "nbconvert_exporter": "python",
   "pygments_lexer": "ipython3",
   "version": "3.7.6"
  }
 },
 "nbformat": 4,
 "nbformat_minor": 4
}
