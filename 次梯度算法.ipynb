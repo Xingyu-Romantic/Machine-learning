{
 "cells": [
  {
   "cell_type": "markdown",
   "metadata": {},
   "source": [
    "# LASSO 问题的次梯度解法"
   ]
  },
  {
   "cell_type": "markdown",
   "metadata": {},
   "source": [
    "对于 LASSO 问题\n",
    "$$\n",
    "\\displaystyle \\min_x \\frac{1}{2}\\|Ax-b\\|_2^2 + \\mu \\|x\\|_1.\n",
    "$$\n",
    "<p>不采用连续化策略，直接对原始的正则化系数利用次梯度法求解。</p>\n",
    "注意到$\\mathrm{sign}(x)\\in\\partial\\|x\\|_1$, 则次梯度的下降方向取为：\n",
    "$d^k=-\\left(A^\\top (Ax-b)+\\mu\\cdot\\mathrm{sign}(x)\\right)$"
   ]
  },
  {
   "cell_type": "code",
   "execution_count": 1,
   "metadata": {},
   "outputs": [],
   "source": [
    "def set_step(k, opts):\n",
    "    type_ = opts['step_type']\n",
    "    if type_ == 'fixed':\n",
    "        a = opts['alpha0']\n",
    "    elif type_ == 'diminishing':\n",
    "        a = opts['alpha0'] / np.sqrt(k)\n",
    "    elif type_ == 'diminishing2':\n",
    "        a = opts['alpha0'] / k\n",
    "    else:\n",
    "        print('unsupported type.')\n",
    "    return a\n",
    "\n",
    "opt = {'maxit': 2000, 'ftol': 0, 'step_type': 'fixed', \n",
    "       'alpha0': 0.01, 'thres': 1e-4}\n",
    "def l1_subgrad(x0, A, b, mu, opts):\n",
    "    for i in opt.keys():\n",
    "        if opts.get(i, -1) == -1:\n",
    "            opts[i] = opt[i]\n",
    "    x = x0\n",
    "    out = {'f_hist': np.zeros((opts['maxit'])), \n",
    "           'f_hist_best': np.zeros((opts['maxit'])), \n",
    "           'g_hist': np.zeros((opts['maxit']))}\n",
    "    f_best = np.inf\n",
    "    for k in range(1, opts['maxit']):\n",
    "        r = np.matmul(A, x) - b\n",
    "        g = np.matmul(A.T, r)\n",
    "        out['g_hist'][k] = np.linalg.norm(r, 2)\n",
    "        f_now = 0.5 * np.linalg.norm(r, 2) ** 2 + mu * np.linalg.norm(x, 1)\n",
    "        out['f_hist'][k] = f_now\n",
    "        f_best = min(f_best, f_now)\n",
    "        out['f_hist_best'][k] = f_best\n",
    "        if k > 1 and abs(out['f_hist_best'][k] - out['f_hist_best'][k-1]) / abs(out['f_hist_best'][1]) < opts['ftol']:\n",
    "            break\n",
    "        x[abs(x) < opts['thres']] = 0\n",
    "        sub_g = g + mu * np.sign(x)\n",
    "        alpha = set_step(k, opts)\n",
    "        x = x - alpha * sub_g\n",
    "    out['itr'] = k\n",
    "    out['f_hist'] = out['f_hist'][1:k]\n",
    "    out['f_hist_best'] = out['f_hist_best'][1:k]\n",
    "    out['g_hist'] = out['g_hist'][1:k]\n",
    "    return [x, out]"
   ]
  },
  {
   "cell_type": "markdown",
   "metadata": {},
   "source": [
    "## 次梯度法解LASSO问题"
   ]
  },
  {
   "cell_type": "code",
   "execution_count": 2,
   "metadata": {},
   "outputs": [],
   "source": [
    "import random\n",
    "import numpy as np\n",
    "import scipy.sparse\n",
    "random.seed(2)\n",
    "m = 512\n",
    "n = 1024\n",
    "A = np.random.randn(m, n)\n",
    "u = scipy.sparse.rand(n,1,0.1).toarray()\n",
    "b = np.matmul(A, u)\n",
    "\n",
    "mu = 1\n",
    "x0 = u + 1e-1 * np.random.randn(n, 1)\n",
    "\n",
    "opts_g = {'maxit': 50000, 'alpha0': 1e-6, 'step_type': 'fixed'}\n",
    "[x_g, out_g] = l1_subgrad(u, A, b, mu, opts_g)\n",
    "f_star = out_g['f_hist_best'][-1]\n",
    "\n",
    "# 步长 0.0005 进行实验\n",
    "opts = {'maxit': 3000, 'alpha0': 0.0005, 'step_type': 'fixed'}\n",
    "[x, out] = l1_subgrad(x0, A, b, mu, opts)\n",
    "data1 = (np.array(out['f_hist']) - f_star) / f_star\n",
    "data1_best = (np.array(out['f_hist_best']) - f_star) / f_star\n",
    "\n",
    "# 步长 0.0002 进行实验\n",
    "opts['alpha0'] = 0.0002\n",
    "[x, out] = l1_subgrad(x0, A, b, mu, opts)\n",
    "data2 = (np.array(out['f_hist']) - f_star) / f_star\n",
    "data2_best = (np.array(out['f_hist_best']) - f_star) / f_star\n",
    "\n",
    "# 步长 0.0001 进行实验\n",
    "opts['alpha0'] = 0.0001\n",
    "[x, out] = l1_subgrad(x0, A, b, mu, opts)\n",
    "data3 = (np.array(out['f_hist']) - f_star) / f_star\n",
    "data3_best = (np.array(out['f_hist_best']) - f_star) / f_star\n",
    "\n",
    "# 取步长 0.002 开始的消失步长 0.002 / $\\sqrt{k}$ 进行实验\n",
    "opts['step_type'] = 'diminishing'\n",
    "opts['alpha0'] = 0.002\n",
    "[x, out] = l1_subgrad(x0, A, b, mu, opts)\n",
    "data4 = (np.array(out['f_hist']) - f_star) / f_star\n",
    "data4_best = (np.array(out['f_hist_best']) - f_star) / f_star"
   ]
  },
  {
   "cell_type": "code",
   "execution_count": 3,
   "metadata": {},
   "outputs": [
    {
     "data": {
      "text/plain": [
       "(array([62.36002054, 12.92002077,  6.28296848,  4.05203974,  3.00778554]),\n",
       " array([62.36002054, 32.06563073, 19.32989196, 13.06555322,  9.56702276]),\n",
       " array([62.36002054, 45.46080584, 34.17705833, 26.44320211, 21.00187296]),\n",
       " array([   62.36002054,   390.50427808,  1991.54208198,  7293.80725292,\n",
       "        19865.45837127]))"
      ]
     },
     "execution_count": 3,
     "metadata": {},
     "output_type": "execute_result"
    }
   ],
   "source": [
    "data1[:5], data2[:5], data3[:5], data4[:5]"
   ]
  },
  {
   "cell_type": "code",
   "execution_count": 4,
   "metadata": {},
   "outputs": [
    {
     "data": {
      "image/png": "[encoded data removed]",
      "text/plain": [
       "<Figure size 432x288 with 1 Axes>"
      ]
     },
     "metadata": {
      "needs_background": "light"
     },
     "output_type": "display_data"
    }
   ],
   "source": [
    "import matplotlib.pyplot as plt\n",
    "%matplotlib inline\n",
    "plt.grid(True,linestyle='--',alpha=0.5)\n",
    "plt.xlim(0,200)\n",
    "plt.plot(list(range(len(data1))), data1, c = 'red', label='0.0005')\n",
    "plt.plot(list(range(len(data2))), data2, c = 'blue', label='0.0002')\n",
    "plt.plot(list(range(len(data3))), data3, c = 'green', label='0.0001')\n",
    "plt.plot(list(range(len(data4))), data4, c = 'black', label='0.002')\n",
    "plt.legend(loc='upper right')\n",
    "plt.savefig('次梯度法1.png')"
   ]
  },
  {
   "cell_type": "code",
   "execution_count": 5,
   "metadata": {},
   "outputs": [
    {
     "data": {
      "text/plain": [
       "[<matplotlib.lines.Line2D at 0x7f661c585050>]"
      ]
     },
     "execution_count": 5,
     "metadata": {},
     "output_type": "execute_result"
    },
    {
     "data": {
      "image/png": "[encoded data removed]",
      "text/plain": [
       "<Figure size 432x288 with 1 Axes>"
      ]
     },
     "metadata": {
      "needs_background": "light"
     },
     "output_type": "display_data"
    }
   ],
   "source": [
    "plt.grid(True,linestyle='--',alpha=0.5)\n",
    "plt.ylim(1e-5, 10)\n",
    "plt.xlim(0, 1000)\n",
    "plt.plot(list(range(len(data1_best))), data1_best, c = 'red')\n",
    "plt.plot(list(range(len(data2_best))), data2_best, c = 'blue')\n",
    "plt.plot(list(range(len(data3_best))), data3_best, c = 'green')\n",
    "plt.plot(list(range(len(data4_best))), data4_best, c = 'black')"
   ]
  },
  {
   "cell_type": "markdown",
   "metadata": {},
   "source": [
    "## LASSO 问题的连续化次梯度法\n"
   ]
  },
  {
   "cell_type": "markdown",
   "metadata": {},
   "source": [
    "利用连续化策略下的次梯度法进行求解。 该算法被外层连续化策略调用，完成某一固定正则化系数的内层迭代优化。\n",
    "<p>对于目标函数，选定其次梯度为$\\displaystyle A^\\top (Ax-b)+\\mu\\cdot \\mathrm{sign}(x)$， 并以次梯度方向作为下降方向进行迭代</p>"
   ]
  },
  {
   "cell_type": "code",
   "execution_count": 6,
   "metadata": {},
   "outputs": [],
   "source": [
    "import time\n",
    "import numpy as np\n",
    "optsh = {'maxit': 200, 'ftol': 1e-8, 'gtol': 1e-6, 'alpha0': 0.01, \n",
    "           'sigma': 0.1, 'verbose': 0}\n",
    "def LASSO_grad_huber_inn(x, A, b, mu, mu0, opt):\n",
    "    for i in optsh.keys():\n",
    "        if opt.get(i, -1) == -1:\n",
    "            opt[i] = optsh[i]\n",
    "    tic = time.time()\n",
    "    r = np.matmul(A, x) - b\n",
    "    g = np.matmul(A.T, r)\n",
    "    huber_g = np.sign(x)\n",
    "    idx = abs(x) < opt['sigma']\n",
    "    huber_g[idx] = x[idx] / opt['sigma']\n",
    "    \n",
    "    g = g + mu * huber_g\n",
    "    nrmG= np.linalg.norm(g, 2)\n",
    "    \n",
    "    f = 0.5 * np.linalg.norm(r, 2) ** 2 + \\\n",
    "                mu * (np.sum(np.square(x[idx])/(2 * opt['sigma'])) \\\n",
    "                      + np.sum(np.abs(x[abs(x) >= opt['sigma']]) - \\\n",
    "                               opt['sigma'] / 2))\n",
    "    out = {}\n",
    "    \n",
    "    out['fvec'] = 0.5 * np.linalg.norm(r, 2) ** 2 + mu0 * np.linalg.norm(x, 1)\n",
    "    alpha = opt['alpha0']\n",
    "    eta = 0.2\n",
    "    \n",
    "    rhols = 1e-6\n",
    "    gamma = 0.85\n",
    "    Q = 1\n",
    "    Cval = f\n",
    "    for k in range(opt['maxit']):\n",
    "        fp = f\n",
    "        gp = g\n",
    "        xp = x\n",
    "        nls = 1\n",
    "        while 1:\n",
    "            x = xp - alpha * gp\n",
    "            r = np.dot(A, x) - b\n",
    "            g = np.dot(A.T, r)\n",
    "            huber_g = np.sign(x)\n",
    "            idx = abs(x) < opt['sigma']\n",
    "            huber_g[idx] = x[idx] / opt['sigma']\n",
    "            f = 0.5 * np.linalg.norm(r, 2) ** 2 + \\\n",
    "                mu * (np.sum(x[abs(x) >= opt['sigma']] - opt['sigma'] / 2))\n",
    "            g = g + mu * huber_g\n",
    "            if f <= Cval - alpha * rhols * nrmG ** 2 or nls >= 10:\n",
    "                break\n",
    "            alpha = eta * alpha \n",
    "            nls += 1\n",
    "        nrmG = np.linalg.norm(g, 2)\n",
    "        forg = 0.5 * np.linalg.norm(r, 2) ** 2 + mu0 * np.linalg.norm(x, 1)\n",
    "        out['fvec'] = [out['fvec'], forg]\n",
    "        if opt['verbose']:\n",
    "            print('%4d\\t %.4e \\t %.1e \\t %.2e \\t %2d \\n'%(k, f, nrmG, alpha, nls))\n",
    "        if nrmG < opt['gtol'] or abs(fp - f) < opt['ftol']:\n",
    "            break\n",
    "        dx = x - xp\n",
    "        dg = g - gp\n",
    "        dxg = abs(np.matmul(dx.T, dx))\n",
    "        if dxg > 0:\n",
    "            if k % 2 == 0:\n",
    "                alpha = np.matmul(dx.T, dx) / dxg\n",
    "            else:\n",
    "                alpha = dxg / np.matmul(dg.T, dg)\n",
    "            alpha = max(min(alpha, 1e12), 1e-12)\n",
    "        Qp = Q\n",
    "        Q = gamma * Qp + 1\n",
    "        Cval = (gamma * Qp * Cval + f) / Q\n",
    "    out['flag'] = k == opt['maxit']\n",
    "    out['fval'] = f\n",
    "    out['itr'] = k\n",
    "    out['tt'] = time.time() - tic\n",
    "    out['nrmG'] = nrmG\n",
    "    return [x, out]\n",
    "\n",
    "optsp = {'maxit': 30, 'maxit_inn':1, 'ftol': 1e-8, 'gtol': 1e-6, \n",
    "        'factor': 0.1, 'verbose': 1, 'mul': 100, 'opts1':{},\n",
    "        'etaf': 1e-1, 'etag': 1e-1}\n",
    "optsp['gtol_init_ratio'] = 1 / optsp['gtol']\n",
    "optsp['ftol_init_ratio'] = 1e5\n",
    "def prox(x, mu):\n",
    "    y = np.max(np.abs(x) - mu, 0)\n",
    "    y = np.dot(np.sign(x), y)\n",
    "    return y\n",
    "def Func(A, b, mu0, x):\n",
    "    w = np.dot(A, x) - b\n",
    "    f = 0.5 * (np.matmul(w.T, w)) + mu0 * np.linalg.norm(x, 1)\n",
    "    return f\n",
    "def LASSO_con(x0, A, b, mu0, opts):\n",
    "    L = max(np.linalg.eig(np.matmul(A.T, A))[0])\n",
    "    for i in optsp.keys():\n",
    "        if opts.get(i, -1) == -1:\n",
    "            opts[i] = optsp[i]\n",
    "    if not opts['alpha0']: opts['alpha0'] = 1 / L\n",
    "    out = {}\n",
    "    out['fvec'] = []\n",
    "    k = 0\n",
    "    x = x0\n",
    "    mu_t = opts['mul']\n",
    "    tic = time.time()\n",
    "    f = Func(A, b, mu_t, x)\n",
    "    opts1 = opts['opts1']\n",
    "    opts1['ftol'] = opts['ftol'] * opts['ftol_init_ratio']\n",
    "    opts1['gtol'] = opts['gtol'] * opts['gtol_init_ratio']\n",
    "    out['itr_inn'] = 0\n",
    "    while k < opts['maxit']:\n",
    "        opts1['maxit'] = opts['maxit_inn']\n",
    "        opts1['gtol'] = max(opts1['gtol'] * opts['etag'], opts['gtol'])\n",
    "        opts1['ftol'] = max(opts1['ftol'] * opts['etaf'], opts['ftol'])\n",
    "        opts1['verbose'] = opts['verbose'] > 1\n",
    "        opts1['alpha0'] = opts['alpha0']\n",
    "        if opts['method'] == 'grad_huber':\n",
    "            opts1['sigma'] = 1e-3 * mu_t\n",
    "        fp = f\n",
    "        [x, out1] = LASSO_grad_huber_inn(x, A, b, mu_t, mu0, opts1)\n",
    "        f = out1['fvec'][-1]\n",
    "        out['fvec'].extend(out1['fvec'])# = [out['fvec'], out1['fvec']]\n",
    "        k += 1\n",
    "        nrmG = np.linalg.norm(x - prox(x - np.matmul(A.T, (np.matmul(A, x) - b)), mu0),2)\n",
    "        if opts['verbose']:\n",
    "            print('itr: %d\\tmu_t: %e\\titr_inn: %d\\tfval: %e\\tnrmG: %.1e\\n'%(k, mu_t, out1.itr, f, nrmG))\n",
    "        if not out1['flag']:\n",
    "            mu_t = max(mu_t * opts['factor'], mu0)\n",
    "        if mu_t == mu0 and (nrmG < opts['gtol'] or abs(f - fp) < opts['ftol']):\n",
    "            break\n",
    "        out['itr_inn'] = out['itr_inn'] + out1['itr']\n",
    "    out['fval'] = f\n",
    "    out['tt'] = time.time() - tic\n",
    "    out['itr'] = k\n",
    "    return [x, out]"
   ]
  },
  {
   "cell_type": "code",
   "execution_count": 7,
   "metadata": {},
   "outputs": [],
   "source": [
    "import time\n",
    "def set_step(k, opts):\n",
    "    type_ = opts['step_type']\n",
    "    if type_ == 'fixed':\n",
    "        a = opts['alpha0']\n",
    "    elif type_ == 'diminishing':\n",
    "        a = opts['alpha0'] / np.sqrt(max(k, 100) - 99)\n",
    "    elif type_ == 'diminishing2':\n",
    "        a = opts['alpha0'] / (max(k, 100) - 99)\n",
    "    else:\n",
    "        print('unsupported type')\n",
    "    return a\n",
    "opt = {'maxit': 500, 'thres': 1e-4, 'step_type': 'fixed', \n",
    "       'alpha0': 0.01, 'ftol': 1e-12}\n",
    "def LASSO_subgrad_inn(x, A, b, mu, mu0, opts):\n",
    "    for i in opt.keys():\n",
    "        if opts.get(i, -1) == -1:\n",
    "            opts[i] = opt[i]\n",
    "    if mu > mu0:\n",
    "        opts['step_type'] = 'fixed'\n",
    "    else:\n",
    "        opts['step_type'] = opts['step_type']\n",
    "    tic = time.time()\n",
    "    out = {}\n",
    "    out['fvec'] = []\n",
    "    out['f_hist'] = [0] * opts['maxit']\n",
    "    out['f_hist_best'] = [0] * opts['maxit']\n",
    "    r = np.matmul(A ,x) - b\n",
    "    gx = np.matmul(A.T, r)\n",
    "    sub_g = gx + mu * np.sign(x)\n",
    "    f_best = np.inf\n",
    "    k = 1\n",
    "    while k < opts['maxit']:\n",
    "        alpha0 = set_step(k, opts)\n",
    "        x = x - alpha * sub_g\n",
    "        r = np.matmul(A, x) - b\n",
    "        g = np.matmul(A.T, r)\n",
    "        # 将x中小于某个设定阈值的值置为0. 这是由于绝对值较小的值虽然与0接近，但次梯度却与0相差较大\n",
    "        x[np.abs(x) < opts['thres']] = 0\n",
    "        sub_g = g + mu * np.sign(x)\n",
    "        # 记录梯度范数，和x对应目标函数的值，以及目标函数历史值。\n",
    "        out['grad_hist'][k] = np.linalg.norm(r, 2)\n",
    "        tmp = 0.5 * np.square(np.linalg.norm(r, 2))\n",
    "        nrmx1 = np.linalg.norm(x, 1)\n",
    "        f = tmp + mu * nrmx1\n",
    "        \n",
    "        out['f_hist'][k] = f\n",
    "        f_best = min(f_best, f)\n",
    "        out['f_hist_best'][k] = f_best\n",
    "        out['fvec'].append(tmp + mu0 * nrmx1)\n",
    "        \n",
    "        if opts['verbose']:\n",
    "            print('itr: %4d \\t f: %.4e \\t step: %.1e\\n'%(k, f, alpha))\n",
    "        FDiff = np.abs(out['f_hist'][k] - out['f_hist'][max(k-1, 1)]) / np.abs(out['f_hist_best'][1])\n",
    "        BFDiff = np.abs(out['f_hist_best'][max(k - 8, 1)]) - min(out['f_hist_best'][max(k-7, 1): k])\n",
    "        if (k > 1 and FDiff < opt['ftol']) or (k > 8 and BFDiff < opt['ftol']):\n",
    "            break\n",
    "        k += 1\n",
    "    if k == opt['maxit']:\n",
    "        out['flag'] = 1\n",
    "    else:\n",
    "        out['flag'] = 0"
   ]
  },
  {
   "cell_type": "markdown",
   "metadata": {},
   "source": [
    "### 实例：连续化次梯度法解决LASSO问题"
   ]
  },
  {
   "cell_type": "code",
   "execution_count": null,
   "metadata": {},
   "outputs": [],
   "source": []
  },
  {
   "cell_type": "code",
   "execution_count": 8,
   "metadata": {},
   "outputs": [
    {
     "ename": "TypeError",
     "evalue": "unsupported operand type(s) for -: 'list' and 'float'",
     "output_type": "error",
     "traceback": [
      "\u001b[0;31m---------------------------------------------------------------------------\u001b[0m",
      "\u001b[0;31mTypeError\u001b[0m                                 Traceback (most recent call last)",
      "\u001b[0;32m<ipython-input-8-11345daee0a6>\u001b[0m in \u001b[0;36m<module>\u001b[0;34m\u001b[0m\n\u001b[1;32m     24\u001b[0m \u001b[0mopts\u001b[0m\u001b[0;34m[\u001b[0m\u001b[0;34m'ftol'\u001b[0m\u001b[0;34m]\u001b[0m \u001b[0;34m=\u001b[0m \u001b[0;36m1e-8\u001b[0m\u001b[0;34m\u001b[0m\u001b[0;34m\u001b[0m\u001b[0m\n\u001b[1;32m     25\u001b[0m \u001b[0;34m[\u001b[0m\u001b[0mx\u001b[0m\u001b[0;34m,\u001b[0m \u001b[0mout\u001b[0m\u001b[0;34m]\u001b[0m \u001b[0;34m=\u001b[0m \u001b[0mLASSO_con\u001b[0m\u001b[0;34m(\u001b[0m\u001b[0mx0\u001b[0m\u001b[0;34m,\u001b[0m \u001b[0mA\u001b[0m\u001b[0;34m,\u001b[0m \u001b[0mb\u001b[0m\u001b[0;34m,\u001b[0m \u001b[0mmu\u001b[0m\u001b[0;34m,\u001b[0m \u001b[0mopts\u001b[0m\u001b[0;34m)\u001b[0m\u001b[0;34m\u001b[0m\u001b[0;34m\u001b[0m\u001b[0m\n\u001b[0;32m---> 26\u001b[0;31m \u001b[0mdata1\u001b[0m \u001b[0;34m=\u001b[0m \u001b[0;34m(\u001b[0m\u001b[0mnp\u001b[0m\u001b[0;34m.\u001b[0m\u001b[0marray\u001b[0m\u001b[0;34m(\u001b[0m\u001b[0mout\u001b[0m\u001b[0;34m[\u001b[0m\u001b[0;34m'fvec'\u001b[0m\u001b[0;34m]\u001b[0m\u001b[0;34m)\u001b[0m \u001b[0;34m-\u001b[0m \u001b[0mf_star\u001b[0m\u001b[0;34m)\u001b[0m \u001b[0;34m/\u001b[0m \u001b[0mf_star\u001b[0m\u001b[0;34m\u001b[0m\u001b[0;34m\u001b[0m\u001b[0m\n\u001b[0m\u001b[1;32m     27\u001b[0m \u001b[0mk1\u001b[0m \u001b[0;34m=\u001b[0m \u001b[0mlen\u001b[0m\u001b[0;34m(\u001b[0m\u001b[0mdata1\u001b[0m\u001b[0;34m)\u001b[0m\u001b[0;34m\u001b[0m\u001b[0;34m\u001b[0m\u001b[0m\n\u001b[1;32m     28\u001b[0m \u001b[0;34m\u001b[0m\u001b[0m\n",
      "\u001b[0;31mTypeError\u001b[0m: unsupported operand type(s) for -: 'list' and 'float'"
     ]
    }
   ],
   "source": [
    "import random\n",
    "import numpy as np\n",
    "import scipy.sparse\n",
    "random.seed(2)\n",
    "m = 512\n",
    "n = 1024 \n",
    "A = np.random.randn(m, n)\n",
    "u = scipy.sparse.rand(n,1,0.1).toarray()\n",
    "b = np.matmul(A, u)\n",
    "x0 = np.random.randn(n, 1)\n",
    "mu = 1e-3\n",
    "AA = np.matmul(A.T, A)\n",
    "L = max(np.linalg.eig(AA)[0])\n",
    "opts = {'maxit': 5000, 'maxit_inn': 500, 'opts1':{'step_type':'diminishing'}, \n",
    "        'method':'subgrad', 'verbose': 0, 'alpha0': 1 / L, 'ftol': 1e-12, \n",
    "        'ftol0': 1e4, 'etag': 1}\n",
    "[x, out] = LASSO_con(x0, A, b, mu, opts)\n",
    "f_star = out['fvec'][-1]\n",
    "\n",
    "opts['maxits'] = 3000\n",
    "opts['maxit_inn'] = 200\n",
    "opts['opts1']['step_type'] = 'diminishing'\n",
    "opts['verbose'] = 0\n",
    "opts['ftol'] = 1e-8\n",
    "[x, out] = LASSO_con(x0, A, b, mu, opts)\n",
    "data1 = (np.array(out['fvec']) - f_star) / f_star\n",
    "k1 = len(data1)\n",
    "\n",
    "mu = 1e-2\n",
    "opts['maxit'] = 5000\n",
    "opts['maxit_inn'] = 500\n",
    "opts['opts1']['step_type'] = 'fixed'\n",
    "opts['ftol'] = 1e-10\n",
    "[x, out] = LASSO_con(x0, A, b, mu, opts)\n",
    "f_star = out['fvec'][-1]\n",
    "\n",
    "opts['maxit'] = 3000\n",
    "opts['maxit_inn'] = 200\n",
    "opts['ftol'] = 1e-8\n",
    "opts['opts1']['step_type'] = 'fixed'\n",
    "[x, out] = LASSO_con(x0, A, b, mu, opts)\n",
    "data2 = (np.array(out['fvec']) - f_star) / f_star\n",
    "k2 = len(len(data2))"
   ]
  },
  {
   "cell_type": "code",
   "execution_count": null,
   "metadata": {},
   "outputs": [],
   "source": [
    "import matplotlib.pyplot as plt\n",
    "%matplotlib inline\n",
    "plt.plot(list(range(k1)), np.max(data1,0))\n",
    "plt.plot(list(range(k2)), np.max(data2,0))"
   ]
  },
  {
   "cell_type": "code",
   "execution_count": null,
   "metadata": {},
   "outputs": [],
   "source": []
  }
 ],
 "metadata": {
  "kernelspec": {
   "display_name": "Python 3",
   "language": "python",
   "name": "python3"
  },
  "language_info": {
   "codemirror_mode": {
    "name": "ipython",
    "version": 3
   },
   "file_extension": ".py",
   "mimetype": "text/x-python",
   "name": "python",
   "nbconvert_exporter": "python",
   "pygments_lexer": "ipython3",
   "version": "3.7.6"
  }
 },
 "nbformat": 4,
 "nbformat_minor": 4
}
