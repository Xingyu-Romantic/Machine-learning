{
 "cells": [
  {
   "cell_type": "code",
   "execution_count": 1,
   "metadata": {},
   "outputs": [
    {
     "data": {
      "text/plain": [
       "LinearRegression(copy_X=True, fit_intercept=True, n_jobs=None, normalize=False)"
      ]
     },
     "execution_count": 1,
     "metadata": {},
     "output_type": "execute_result"
    }
   ],
   "source": [
    "from sklearn import linear_model\n",
    "reg = linear_model.LinearRegression()\n",
    "reg.fit ([[0, 0], [1, 1], [2, 2]], [0, 1, 2])"
   ]
  },
  {
   "cell_type": "code",
   "execution_count": 2,
   "metadata": {},
   "outputs": [
    {
     "data": {
      "image/png": "[encoded data removed]",
      "text/plain": [
       "<Figure size 432x288 with 1 Axes>"
      ]
     },
     "metadata": {
      "needs_background": "light"
     },
     "output_type": "display_data"
    }
   ],
   "source": [
    "import matplotlib.pyplot as plt \n",
    "import numpy as np\n",
    "x_train = np.array([0,1,2,3,4,5])\n",
    "y_train = np.array([1,2,3,4,5,7])\n",
    "plt.scatter(x_train,y_train,color = 'red')\n",
    "plt.show()"
   ]
  },
  {
   "cell_type": "code",
   "execution_count": 5,
   "metadata": {},
   "outputs": [],
   "source": [
    "# 应用 sklearn 算法包处理\n",
    "from sklearn.linear_model import LinearRegression\n",
    "reg = LinearRegression()\n",
    "reg.fit (x_train.reshape(-1,1), y_train)\n",
    "#斜率\n",
    "w = reg.coef_[0]\n",
    "#截距\n",
    "b = reg.intercept_"
   ]
  },
  {
   "cell_type": "code",
   "execution_count": 6,
   "metadata": {},
   "outputs": [
    {
     "data": {
      "image/png": "[encoded data removed]",
      "text/plain": [
       "<Figure size 432x288 with 1 Axes>"
      ]
     },
     "metadata": {
      "needs_background": "light"
     },
     "output_type": "display_data"
    }
   ],
   "source": [
    "x_test = np.array([3]).reshape(-1,1)\n",
    "y_test = reg.predict(x_test)\n",
    "plt.plot(x_train,w * x_train + b, \"b-\")\n",
    "plt.scatter(x_train,y_train,color = 'red')\n",
    "plt.scatter(x_test, y_test ,color = 'black')\n",
    "plt.show()"
   ]
  },
  {
   "cell_type": "code",
   "execution_count": 7,
   "metadata": {},
   "outputs": [],
   "source": [
    "# 手撸机器学习算法\n",
    "import numpy as np"
   ]
  },
  {
   "cell_type": "code",
   "execution_count": 8,
   "metadata": {},
   "outputs": [
    {
     "name": "stdout",
     "output_type": "stream",
     "text": [
      "(6, 1)\n"
     ]
    }
   ],
   "source": [
    "x_train = x_train.reshape(-1,1)\n",
    "print(x_train.shape)"
   ]
  },
  {
   "cell_type": "code",
   "execution_count": 11,
   "metadata": {},
   "outputs": [],
   "source": [
    "# 1. 初始化参数\n",
    "def initialization_paramaters(X_train):\n",
    "    #Input : X_train\n",
    "    #Output : parameters(dict)\n",
    "    parameters = {}\n",
    "    W = np.random.randn(1,X_train.shape[0])\n",
    "    b = np.random.randn(X_train.shape[1])\n",
    "    parameters['W'] = W\n",
    "    parameters['b'] = b\n",
    "    return parameters"
   ]
  },
  {
   "cell_type": "code",
   "execution_count": 12,
   "metadata": {},
   "outputs": [],
   "source": [
    "# 2. 预测\n",
    "def predict(X_train, parameters):\n",
    "    #Input : X_train, parameters(dict)\n",
    "    #Output : y\n",
    "    W = parameters['W']\n",
    "    b = parameters['b']\n",
    "    y = np.dot(W, X_train) + b\n",
    "    return y "
   ]
  },
  {
   "cell_type": "code",
   "execution_count": null,
   "metadata": {},
   "outputs": [],
   "source": [
    "# 3.计算代价\n",
    "def gradientDesent(X, y, parameters):\n",
    "    #Input: m \n",
    "    #Output: grid\n",
    "    m = X.shape[0]\n",
    "    \n",
    "    grid = (1 / 2 * m)"
   ]
  }
 ],
 "metadata": {
  "kernelspec": {
   "display_name": "Python 3",
   "language": "python",
   "name": "python3"
  },
  "language_info": {
   "codemirror_mode": {
    "name": "ipython",
    "version": 3
   },
   "file_extension": ".py",
   "mimetype": "text/x-python",
   "name": "python",
   "nbconvert_exporter": "python",
   "pygments_lexer": "ipython3",
   "version": "3.7.6"
  }
 },
 "nbformat": 4,
 "nbformat_minor": 4
}
