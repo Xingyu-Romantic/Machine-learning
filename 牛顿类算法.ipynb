{
 "cells": [
  {
   "cell_type": "markdown",
   "metadata": {},
   "source": [
    "## 利用牛顿－共轭梯度法解决优化问题"
   ]
  },
  {
   "cell_type": "code",
   "execution_count": null,
   "metadata": {},
   "outputs": [],
   "source": [
    "import numpy as np\n",
    "\n",
    "optsp = {'xtol': 1e-6, 'gtol': 1e-6, 'ftol':1e-12, 'rho1': 1e-4,\n",
    "         'rho2': 0.9, 'maxit': 200, 'verbose':0, 'itPring': 1}\n",
    "\n",
    "def fminNewton(x, fun, hess, opts, varargin):\n",
    "    for i in optsp.keys():\n",
    "        if opts.get(i, -1) == -1:\n",
    "            opts[i] = optsp[i]\n",
    "    maxit, verbose, itPring = opts['maxit'], opts['verbose'], opts['itPring']\n",
    "    xtol, gtol, ftol = opts['xtol'], opts['gtol'], opts['ftol']\n",
    "    parsls = {'ftol':opts['rho1'], 'gtol': opts['rho2']}\n",
    "    [f, g] = fun(x)\n",
    "    nrmg = np.linalg.norm(g, 2)\n",
    "    nrmx = np.linalg.norm(x, 2)\n",
    "    out = {'msg': 'MaxIter', 'nfe': 1, 'nrmG': nrmg}\n",
    "    \n",
    "    opts_tCG = {}\n",
    "    for iter in range(1, maxit):\n",
    "        fp = f\n",
    "        gp = g\n",
    "        xp = x\n",
    "        nrmxp = nrmx\n",
    "        opts_tCG['kappa'] = 0.1\n",
    "        opts_tCG['theta'] = 1\n",
    "        hess_tCG = \n",
    "            "
   ]
  },
  {
   "cell_type": "markdown",
   "metadata": {},
   "source": []
  },
  {
   "cell_type": "markdown",
   "metadata": {},
   "source": []
  }
 ],
 "metadata": {
  "kernelspec": {
   "display_name": "Python 3",
   "language": "python",
   "name": "python3"
  },
  "language_info": {
   "codemirror_mode": {
    "name": "ipython",
    "version": 3
   },
   "file_extension": ".py",
   "mimetype": "text/x-python",
   "name": "python",
   "nbconvert_exporter": "python",
   "pygments_lexer": "ipython3",
   "version": "3.7.6"
  }
 },
 "nbformat": 4,
 "nbformat_minor": 4
}
